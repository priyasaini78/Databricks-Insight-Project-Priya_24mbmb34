{
 "cells": [
  {
   "cell_type": "code",
   "execution_count": 0,
   "metadata": {
    "application/vnd.databricks.v1+cell": {
     "cellMetadata": {
      "byteLimit": 2048000,
      "implicitDf": true,
      "rowLimit": 10000
     },
     "inputWidgets": {},
     "nuid": "980e471f-41ca-41c0-a7bf-3c9fdcac9104",
     "showTitle": false,
     "tableResultSettingsMap": {},
     "title": ""
    }
   },
   "outputs": [
    {
     "output_type": "display_data",
     "data": {
      "text/html": [
       "<style scoped>\n",
       "  .table-result-container {\n",
       "    max-height: 300px;\n",
       "    overflow: auto;\n",
       "  }\n",
       "  table, th, td {\n",
       "    border: 1px solid black;\n",
       "    border-collapse: collapse;\n",
       "  }\n",
       "  th, td {\n",
       "    padding: 5px;\n",
       "  }\n",
       "  th {\n",
       "    text-align: left;\n",
       "  }\n",
       "</style><div class='table-result-container'><table class='table-result'><thead style='background-color: white'><tr><th>customer_id</th><th>customer_name</th><th>customer_city</th><th>hotel_id</th><th>hotel_name</th><th>hotel_city</th><th>booking_date</th><th>nights</th><th>price_per_night</th><th>total_amount</th></tr></thead><tbody><tr><td>C001</td><td>Neha</td><td>Bangalore</td><td>H03</td><td>Hotel Grand</td><td>Mumbai</td><td>2023-05-26</td><td>2</td><td>6329</td><td>12658</td></tr><tr><td>C002</td><td>Neha</td><td>Bangalore</td><td>H01</td><td>Hotel Grand</td><td>Delhi</td><td>2023-11-29</td><td>5</td><td>4568</td><td>22840</td></tr><tr><td>C003</td><td>Amit</td><td>Hyderabad</td><td>H03</td><td>Sunshine Inn</td><td>Chennai</td><td>2023-08-18</td><td>5</td><td>5809</td><td>29045</td></tr><tr><td>C004</td><td>Sunil</td><td>Pune</td><td>H01</td><td>Sunshine Inn</td><td>Chennai</td><td>2023-03-07</td><td>4</td><td>4086</td><td>16344</td></tr><tr><td>C005</td><td>Manoj</td><td>Mumbai</td><td>H03</td><td>Sunshine Inn</td><td>Pune</td><td>2023-08-12</td><td>1</td><td>2136</td><td>2136</td></tr><tr><td>C006</td><td>Ravi</td><td>Pune</td><td>H05</td><td>Sunshine Inn</td><td>Delhi</td><td>2023-11-02</td><td>1</td><td>6470</td><td>6470</td></tr><tr><td>C007</td><td>Kiran</td><td>Chennai</td><td>H02</td><td>City Palace</td><td>Delhi</td><td>2023-09-08</td><td>6</td><td>2676</td><td>16056</td></tr><tr><td>C008</td><td>Amit</td><td>Hyderabad</td><td>H01</td><td>City Palace</td><td>Bangalore</td><td>2023-11-08</td><td>2</td><td>7001</td><td>14002</td></tr><tr><td>C009</td><td>Anita</td><td>Pune</td><td>H05</td><td>Sunshine Inn</td><td>Mumbai</td><td>2023-11-12</td><td>5</td><td>7963</td><td>39815</td></tr><tr><td>C010</td><td>Sunil</td><td>Delhi</td><td>H05</td><td>Sunshine Inn</td><td>Mumbai</td><td>2023-04-07</td><td>6</td><td>5646</td><td>33876</td></tr><tr><td>C011</td><td>Kiran</td><td>Hyderabad</td><td>H05</td><td>Comfort Suites</td><td>Kolkata</td><td>2023-06-15</td><td>1</td><td>7275</td><td>7275</td></tr><tr><td>C012</td><td>Kiran</td><td>Chennai</td><td>H06</td><td>Sea View Resort</td><td>Chennai</td><td>2023-05-30</td><td>2</td><td>7657</td><td>15314</td></tr><tr><td>C013</td><td>Neha</td><td>Hyderabad</td><td>H04</td><td>Sea View Resort</td><td>Kolkata</td><td>2023-10-14</td><td>4</td><td>2388</td><td>9552</td></tr><tr><td>C014</td><td>Priya</td><td>Bangalore</td><td>H04</td><td>Sea View Resort</td><td>Chennai</td><td>2023-04-12</td><td>6</td><td>6307</td><td>37842</td></tr><tr><td>C015</td><td>Anita</td><td>Hyderabad</td><td>H04</td><td>Comfort Suites</td><td>Delhi</td><td>2023-08-18</td><td>5</td><td>6503</td><td>32515</td></tr><tr><td>C016</td><td>Anita</td><td>Mumbai</td><td>H06</td><td>Hotel Grand</td><td>Mumbai</td><td>2023-09-07</td><td>3</td><td>5099</td><td>15297</td></tr><tr><td>C017</td><td>Kiran</td><td>Mumbai</td><td>H03</td><td>City Palace</td><td>Delhi</td><td>2023-12-17</td><td>7</td><td>5223</td><td>36561</td></tr><tr><td>C018</td><td>Neha</td><td>Pune</td><td>H03</td><td>Royal Stay</td><td>Delhi</td><td>2023-09-23</td><td>2</td><td>6791</td><td>13582</td></tr><tr><td>C019</td><td>Sneha</td><td>Bangalore</td><td>H05</td><td>Royal Stay</td><td>Hyderabad</td><td>2023-12-02</td><td>4</td><td>2052</td><td>8208</td></tr><tr><td>C020</td><td>Sneha</td><td>Chennai</td><td>H02</td><td>Comfort Suites</td><td>Pune</td><td>2023-05-01</td><td>2</td><td>3131</td><td>6262</td></tr><tr><td>C021</td><td>Amit</td><td>Chennai</td><td>H04</td><td>Royal Stay</td><td>Kolkata</td><td>2023-06-29</td><td>1</td><td>7285</td><td>7285</td></tr><tr><td>C022</td><td>Amit</td><td>Bangalore</td><td>H02</td><td>Comfort Suites</td><td>Kolkata</td><td>2023-12-31</td><td>6</td><td>7735</td><td>46410</td></tr><tr><td>C023</td><td>Anita</td><td>Chennai</td><td>H06</td><td>Hotel Grand</td><td>Pune</td><td>2023-05-27</td><td>7</td><td>4764</td><td>33348</td></tr><tr><td>C024</td><td>Kiran</td><td>Hyderabad</td><td>H03</td><td>Hotel Grand</td><td>Delhi</td><td>2023-07-24</td><td>4</td><td>2230</td><td>8920</td></tr><tr><td>C025</td><td>Sneha</td><td>Bangalore</td><td>H01</td><td>Comfort Suites</td><td>Delhi</td><td>2023-10-27</td><td>6</td><td>7940</td><td>47640</td></tr><tr><td>C026</td><td>Manoj</td><td>Delhi</td><td>H03</td><td>Hotel Grand</td><td>Delhi</td><td>2023-07-09</td><td>2</td><td>2982</td><td>5964</td></tr><tr><td>C027</td><td>Priya</td><td>Delhi</td><td>H05</td><td>Sunshine Inn</td><td>Mumbai</td><td>2023-04-25</td><td>7</td><td>6133</td><td>42931</td></tr><tr><td>C028</td><td>Priya</td><td>Hyderabad</td><td>H05</td><td>Hotel Grand</td><td>Bangalore</td><td>2023-03-22</td><td>4</td><td>6068</td><td>24272</td></tr><tr><td>C029</td><td>Ravi</td><td>Mumbai</td><td>H03</td><td>City Palace</td><td>Mumbai</td><td>2023-07-21</td><td>7</td><td>4946</td><td>34622</td></tr><tr><td>C030</td><td>Manoj</td><td>Pune</td><td>H02</td><td>Comfort Suites</td><td>Kolkata</td><td>2023-03-20</td><td>7</td><td>4138</td><td>28966</td></tr><tr><td>C031</td><td>Priya</td><td>Kolkata</td><td>H06</td><td>City Palace</td><td>Chennai</td><td>2023-09-10</td><td>1</td><td>7428</td><td>7428</td></tr><tr><td>C032</td><td>Neha</td><td>Kolkata</td><td>H03</td><td>Royal Stay</td><td>Mumbai</td><td>2023-12-10</td><td>3</td><td>4984</td><td>14952</td></tr><tr><td>C033</td><td>Ravi</td><td>Chennai</td><td>H01</td><td>Royal Stay</td><td>Bangalore</td><td>2023-04-11</td><td>3</td><td>5625</td><td>16875</td></tr><tr><td>C034</td><td>Priya</td><td>Hyderabad</td><td>H01</td><td>City Palace</td><td>Pune</td><td>2023-06-16</td><td>6</td><td>4840</td><td>29040</td></tr><tr><td>C035</td><td>Manoj</td><td>Kolkata</td><td>H04</td><td>City Palace</td><td>Delhi</td><td>2023-01-25</td><td>5</td><td>5336</td><td>26680</td></tr><tr><td>C036</td><td>Priya</td><td>Mumbai</td><td>H02</td><td>Hotel Grand</td><td>Bangalore</td><td>2023-11-05</td><td>2</td><td>4536</td><td>9072</td></tr><tr><td>C037</td><td>Amit</td><td>Pune</td><td>H03</td><td>Comfort Suites</td><td>Chennai</td><td>2023-10-13</td><td>3</td><td>6070</td><td>18210</td></tr><tr><td>C038</td><td>Manoj</td><td>Hyderabad</td><td>H04</td><td>Sea View Resort</td><td>Bangalore</td><td>2023-11-28</td><td>5</td><td>3404</td><td>17020</td></tr><tr><td>C039</td><td>Neha</td><td>Hyderabad</td><td>H06</td><td>City Palace</td><td>Delhi</td><td>2023-10-08</td><td>5</td><td>6059</td><td>30295</td></tr><tr><td>C040</td><td>Amit</td><td>Delhi</td><td>H02</td><td>City Palace</td><td>Mumbai</td><td>2023-10-16</td><td>7</td><td>4546</td><td>31822</td></tr><tr><td>C041</td><td>Kiran</td><td>Kolkata</td><td>H06</td><td>Royal Stay</td><td>Hyderabad</td><td>2023-06-26</td><td>1</td><td>5105</td><td>5105</td></tr><tr><td>C042</td><td>Neha</td><td>Bangalore</td><td>H05</td><td>Sea View Resort</td><td>Mumbai</td><td>2023-12-28</td><td>2</td><td>4702</td><td>9404</td></tr><tr><td>C043</td><td>Sneha</td><td>Pune</td><td>H06</td><td>City Palace</td><td>Delhi</td><td>2023-11-10</td><td>1</td><td>3645</td><td>3645</td></tr><tr><td>C044</td><td>Rohit</td><td>Delhi</td><td>H06</td><td>Sunshine Inn</td><td>Hyderabad</td><td>2023-10-25</td><td>7</td><td>6025</td><td>42175</td></tr><tr><td>C045</td><td>Amit</td><td>Bangalore</td><td>H03</td><td>Comfort Suites</td><td>Kolkata</td><td>2023-10-01</td><td>4</td><td>2451</td><td>9804</td></tr><tr><td>C046</td><td>Ravi</td><td>Delhi</td><td>H01</td><td>Hotel Grand</td><td>Delhi</td><td>2023-03-12</td><td>1</td><td>2978</td><td>2978</td></tr><tr><td>C047</td><td>Ravi</td><td>Delhi</td><td>H01</td><td>Sunshine Inn</td><td>Delhi</td><td>2023-02-14</td><td>7</td><td>4573</td><td>32011</td></tr><tr><td>C048</td><td>Sneha</td><td>Kolkata</td><td>H05</td><td>Royal Stay</td><td>Kolkata</td><td>2023-01-14</td><td>5</td><td>6956</td><td>34780</td></tr><tr><td>C049</td><td>Ravi</td><td>Chennai</td><td>H05</td><td>Hotel Grand</td><td>Kolkata</td><td>2023-10-21</td><td>1</td><td>7794</td><td>7794</td></tr><tr><td>C050</td><td>Manoj</td><td>Delhi</td><td>H04</td><td>City Palace</td><td>Mumbai</td><td>2023-04-22</td><td>4</td><td>4077</td><td>16308</td></tr><tr><td>C051</td><td>Amit</td><td>Bangalore</td><td>H02</td><td>Hotel Grand</td><td>Mumbai</td><td>2023-08-10</td><td>6</td><td>7317</td><td>43902</td></tr><tr><td>C052</td><td>Anita</td><td>Pune</td><td>H01</td><td>Hotel Grand</td><td>Kolkata</td><td>2023-08-22</td><td>3</td><td>5207</td><td>15621</td></tr><tr><td>C053</td><td>Sneha</td><td>Kolkata</td><td>H06</td><td>Royal Stay</td><td>Delhi</td><td>2023-09-16</td><td>6</td><td>3762</td><td>22572</td></tr><tr><td>C054</td><td>Rohit</td><td>Bangalore</td><td>H06</td><td>Royal Stay</td><td>Mumbai</td><td>2023-10-24</td><td>1</td><td>2694</td><td>2694</td></tr><tr><td>C055</td><td>Manoj</td><td>Chennai</td><td>H06</td><td>Royal Stay</td><td>Mumbai</td><td>2023-06-24</td><td>6</td><td>5695</td><td>34170</td></tr><tr><td>C056</td><td>Manoj</td><td>Chennai</td><td>H05</td><td>City Palace</td><td>Chennai</td><td>2023-09-10</td><td>6</td><td>3183</td><td>19098</td></tr><tr><td>C057</td><td>Ravi</td><td>Mumbai</td><td>H06</td><td>Comfort Suites</td><td>Chennai</td><td>2023-05-17</td><td>1</td><td>6093</td><td>6093</td></tr><tr><td>C058</td><td>Amit</td><td>Delhi</td><td>H03</td><td>Sea View Resort</td><td>Hyderabad</td><td>2023-11-03</td><td>2</td><td>7220</td><td>14440</td></tr><tr><td>C059</td><td>Manoj</td><td>Chennai</td><td>H02</td><td>Sea View Resort</td><td>Bangalore</td><td>2023-11-02</td><td>3</td><td>7951</td><td>23853</td></tr><tr><td>C060</td><td>Priya</td><td>Hyderabad</td><td>H06</td><td>Hotel Grand</td><td>Kolkata</td><td>2023-03-13</td><td>2</td><td>7414</td><td>14828</td></tr><tr><td>C061</td><td>Priya</td><td>Kolkata</td><td>H01</td><td>Hotel Grand</td><td>Pune</td><td>2023-01-01</td><td>5</td><td>6290</td><td>31450</td></tr><tr><td>C062</td><td>Manoj</td><td>Chennai</td><td>H03</td><td>Hotel Grand</td><td>Mumbai</td><td>2023-03-28</td><td>5</td><td>6919</td><td>34595</td></tr><tr><td>C063</td><td>Rohit</td><td>Pune</td><td>H04</td><td>Comfort Suites</td><td>Kolkata</td><td>2023-11-07</td><td>2</td><td>4049</td><td>8098</td></tr><tr><td>C064</td><td>Kiran</td><td>Pune</td><td>H04</td><td>Sea View Resort</td><td>Bangalore</td><td>2023-04-26</td><td>7</td><td>7886</td><td>55202</td></tr><tr><td>C065</td><td>Ravi</td><td>Chennai</td><td>H02</td><td>Hotel Grand</td><td>Pune</td><td>2023-10-30</td><td>6</td><td>7964</td><td>47784</td></tr><tr><td>C066</td><td>Sunil</td><td>Chennai</td><td>H01</td><td>Sunshine Inn</td><td>Pune</td><td>2023-03-11</td><td>3</td><td>3537</td><td>10611</td></tr><tr><td>C067</td><td>Amit</td><td>Delhi</td><td>H02</td><td>Comfort Suites</td><td>Kolkata</td><td>2023-05-01</td><td>1</td><td>2713</td><td>2713</td></tr><tr><td>C068</td><td>Anita</td><td>Bangalore</td><td>H03</td><td>Sunshine Inn</td><td>Chennai</td><td>2023-12-16</td><td>1</td><td>5238</td><td>5238</td></tr><tr><td>C069</td><td>Kiran</td><td>Bangalore</td><td>H03</td><td>Sunshine Inn</td><td>Delhi</td><td>2023-03-17</td><td>5</td><td>3136</td><td>15680</td></tr><tr><td>C070</td><td>Sunil</td><td>Mumbai</td><td>H06</td><td>Sunshine Inn</td><td>Pune</td><td>2023-05-05</td><td>7</td><td>2195</td><td>15365</td></tr></tbody></table></div>"
      ]
     },
     "metadata": {
      "application/vnd.databricks.v1+output": {
       "addedWidgets": {},
       "aggData": [],
       "aggError": "",
       "aggOverflow": false,
       "aggSchema": [],
       "aggSeriesLimitReached": false,
       "aggType": "",
       "arguments": {},
       "columnCustomDisplayInfos": {},
       "data": [
        [
         "C001",
         "Neha",
         "Bangalore",
         "H03",
         "Hotel Grand",
         "Mumbai",
         "2023-05-26",
         2,
         6329,
         12658
        ],
        [
         "C002",
         "Neha",
         "Bangalore",
         "H01",
         "Hotel Grand",
         "Delhi",
         "2023-11-29",
         5,
         4568,
         22840
        ],
        [
         "C003",
         "Amit",
         "Hyderabad",
         "H03",
         "Sunshine Inn",
         "Chennai",
         "2023-08-18",
         5,
         5809,
         29045
        ],
        [
         "C004",
         "Sunil",
         "Pune",
         "H01",
         "Sunshine Inn",
         "Chennai",
         "2023-03-07",
         4,
         4086,
         16344
        ],
        [
         "C005",
         "Manoj",
         "Mumbai",
         "H03",
         "Sunshine Inn",
         "Pune",
         "2023-08-12",
         1,
         2136,
         2136
        ],
        [
         "C006",
         "Ravi",
         "Pune",
         "H05",
         "Sunshine Inn",
         "Delhi",
         "2023-11-02",
         1,
         6470,
         6470
        ],
        [
         "C007",
         "Kiran",
         "Chennai",
         "H02",
         "City Palace",
         "Delhi",
         "2023-09-08",
         6,
         2676,
         16056
        ],
        [
         "C008",
         "Amit",
         "Hyderabad",
         "H01",
         "City Palace",
         "Bangalore",
         "2023-11-08",
         2,
         7001,
         14002
        ],
        [
         "C009",
         "Anita",
         "Pune",
         "H05",
         "Sunshine Inn",
         "Mumbai",
         "2023-11-12",
         5,
         7963,
         39815
        ],
        [
         "C010",
         "Sunil",
         "Delhi",
         "H05",
         "Sunshine Inn",
         "Mumbai",
         "2023-04-07",
         6,
         5646,
         33876
        ],
        [
         "C011",
         "Kiran",
         "Hyderabad",
         "H05",
         "Comfort Suites",
         "Kolkata",
         "2023-06-15",
         1,
         7275,
         7275
        ],
        [
         "C012",
         "Kiran",
         "Chennai",
         "H06",
         "Sea View Resort",
         "Chennai",
         "2023-05-30",
         2,
         7657,
         15314
        ],
        [
         "C013",
         "Neha",
         "Hyderabad",
         "H04",
         "Sea View Resort",
         "Kolkata",
         "2023-10-14",
         4,
         2388,
         9552
        ],
        [
         "C014",
         "Priya",
         "Bangalore",
         "H04",
         "Sea View Resort",
         "Chennai",
         "2023-04-12",
         6,
         6307,
         37842
        ],
        [
         "C015",
         "Anita",
         "Hyderabad",
         "H04",
         "Comfort Suites",
         "Delhi",
         "2023-08-18",
         5,
         6503,
         32515
        ],
        [
         "C016",
         "Anita",
         "Mumbai",
         "H06",
         "Hotel Grand",
         "Mumbai",
         "2023-09-07",
         3,
         5099,
         15297
        ],
        [
         "C017",
         "Kiran",
         "Mumbai",
         "H03",
         "City Palace",
         "Delhi",
         "2023-12-17",
         7,
         5223,
         36561
        ],
        [
         "C018",
         "Neha",
         "Pune",
         "H03",
         "Royal Stay",
         "Delhi",
         "2023-09-23",
         2,
         6791,
         13582
        ],
        [
         "C019",
         "Sneha",
         "Bangalore",
         "H05",
         "Royal Stay",
         "Hyderabad",
         "2023-12-02",
         4,
         2052,
         8208
        ],
        [
         "C020",
         "Sneha",
         "Chennai",
         "H02",
         "Comfort Suites",
         "Pune",
         "2023-05-01",
         2,
         3131,
         6262
        ],
        [
         "C021",
         "Amit",
         "Chennai",
         "H04",
         "Royal Stay",
         "Kolkata",
         "2023-06-29",
         1,
         7285,
         7285
        ],
        [
         "C022",
         "Amit",
         "Bangalore",
         "H02",
         "Comfort Suites",
         "Kolkata",
         "2023-12-31",
         6,
         7735,
         46410
        ],
        [
         "C023",
         "Anita",
         "Chennai",
         "H06",
         "Hotel Grand",
         "Pune",
         "2023-05-27",
         7,
         4764,
         33348
        ],
        [
         "C024",
         "Kiran",
         "Hyderabad",
         "H03",
         "Hotel Grand",
         "Delhi",
         "2023-07-24",
         4,
         2230,
         8920
        ],
        [
         "C025",
         "Sneha",
         "Bangalore",
         "H01",
         "Comfort Suites",
         "Delhi",
         "2023-10-27",
         6,
         7940,
         47640
        ],
        [
         "C026",
         "Manoj",
         "Delhi",
         "H03",
         "Hotel Grand",
         "Delhi",
         "2023-07-09",
         2,
         2982,
         5964
        ],
        [
         "C027",
         "Priya",
         "Delhi",
         "H05",
         "Sunshine Inn",
         "Mumbai",
         "2023-04-25",
         7,
         6133,
         42931
        ],
        [
         "C028",
         "Priya",
         "Hyderabad",
         "H05",
         "Hotel Grand",
         "Bangalore",
         "2023-03-22",
         4,
         6068,
         24272
        ],
        [
         "C029",
         "Ravi",
         "Mumbai",
         "H03",
         "City Palace",
         "Mumbai",
         "2023-07-21",
         7,
         4946,
         34622
        ],
        [
         "C030",
         "Manoj",
         "Pune",
         "H02",
         "Comfort Suites",
         "Kolkata",
         "2023-03-20",
         7,
         4138,
         28966
        ],
        [
         "C031",
         "Priya",
         "Kolkata",
         "H06",
         "City Palace",
         "Chennai",
         "2023-09-10",
         1,
         7428,
         7428
        ],
        [
         "C032",
         "Neha",
         "Kolkata",
         "H03",
         "Royal Stay",
         "Mumbai",
         "2023-12-10",
         3,
         4984,
         14952
        ],
        [
         "C033",
         "Ravi",
         "Chennai",
         "H01",
         "Royal Stay",
         "Bangalore",
         "2023-04-11",
         3,
         5625,
         16875
        ],
        [
         "C034",
         "Priya",
         "Hyderabad",
         "H01",
         "City Palace",
         "Pune",
         "2023-06-16",
         6,
         4840,
         29040
        ],
        [
         "C035",
         "Manoj",
         "Kolkata",
         "H04",
         "City Palace",
         "Delhi",
         "2023-01-25",
         5,
         5336,
         26680
        ],
        [
         "C036",
         "Priya",
         "Mumbai",
         "H02",
         "Hotel Grand",
         "Bangalore",
         "2023-11-05",
         2,
         4536,
         9072
        ],
        [
         "C037",
         "Amit",
         "Pune",
         "H03",
         "Comfort Suites",
         "Chennai",
         "2023-10-13",
         3,
         6070,
         18210
        ],
        [
         "C038",
         "Manoj",
         "Hyderabad",
         "H04",
         "Sea View Resort",
         "Bangalore",
         "2023-11-28",
         5,
         3404,
         17020
        ],
        [
         "C039",
         "Neha",
         "Hyderabad",
         "H06",
         "City Palace",
         "Delhi",
         "2023-10-08",
         5,
         6059,
         30295
        ],
        [
         "C040",
         "Amit",
         "Delhi",
         "H02",
         "City Palace",
         "Mumbai",
         "2023-10-16",
         7,
         4546,
         31822
        ],
        [
         "C041",
         "Kiran",
         "Kolkata",
         "H06",
         "Royal Stay",
         "Hyderabad",
         "2023-06-26",
         1,
         5105,
         5105
        ],
        [
         "C042",
         "Neha",
         "Bangalore",
         "H05",
         "Sea View Resort",
         "Mumbai",
         "2023-12-28",
         2,
         4702,
         9404
        ],
        [
         "C043",
         "Sneha",
         "Pune",
         "H06",
         "City Palace",
         "Delhi",
         "2023-11-10",
         1,
         3645,
         3645
        ],
        [
         "C044",
         "Rohit",
         "Delhi",
         "H06",
         "Sunshine Inn",
         "Hyderabad",
         "2023-10-25",
         7,
         6025,
         42175
        ],
        [
         "C045",
         "Amit",
         "Bangalore",
         "H03",
         "Comfort Suites",
         "Kolkata",
         "2023-10-01",
         4,
         2451,
         9804
        ],
        [
         "C046",
         "Ravi",
         "Delhi",
         "H01",
         "Hotel Grand",
         "Delhi",
         "2023-03-12",
         1,
         2978,
         2978
        ],
        [
         "C047",
         "Ravi",
         "Delhi",
         "H01",
         "Sunshine Inn",
         "Delhi",
         "2023-02-14",
         7,
         4573,
         32011
        ],
        [
         "C048",
         "Sneha",
         "Kolkata",
         "H05",
         "Royal Stay",
         "Kolkata",
         "2023-01-14",
         5,
         6956,
         34780
        ],
        [
         "C049",
         "Ravi",
         "Chennai",
         "H05",
         "Hotel Grand",
         "Kolkata",
         "2023-10-21",
         1,
         7794,
         7794
        ],
        [
         "C050",
         "Manoj",
         "Delhi",
         "H04",
         "City Palace",
         "Mumbai",
         "2023-04-22",
         4,
         4077,
         16308
        ],
        [
         "C051",
         "Amit",
         "Bangalore",
         "H02",
         "Hotel Grand",
         "Mumbai",
         "2023-08-10",
         6,
         7317,
         43902
        ],
        [
         "C052",
         "Anita",
         "Pune",
         "H01",
         "Hotel Grand",
         "Kolkata",
         "2023-08-22",
         3,
         5207,
         15621
        ],
        [
         "C053",
         "Sneha",
         "Kolkata",
         "H06",
         "Royal Stay",
         "Delhi",
         "2023-09-16",
         6,
         3762,
         22572
        ],
        [
         "C054",
         "Rohit",
         "Bangalore",
         "H06",
         "Royal Stay",
         "Mumbai",
         "2023-10-24",
         1,
         2694,
         2694
        ],
        [
         "C055",
         "Manoj",
         "Chennai",
         "H06",
         "Royal Stay",
         "Mumbai",
         "2023-06-24",
         6,
         5695,
         34170
        ],
        [
         "C056",
         "Manoj",
         "Chennai",
         "H05",
         "City Palace",
         "Chennai",
         "2023-09-10",
         6,
         3183,
         19098
        ],
        [
         "C057",
         "Ravi",
         "Mumbai",
         "H06",
         "Comfort Suites",
         "Chennai",
         "2023-05-17",
         1,
         6093,
         6093
        ],
        [
         "C058",
         "Amit",
         "Delhi",
         "H03",
         "Sea View Resort",
         "Hyderabad",
         "2023-11-03",
         2,
         7220,
         14440
        ],
        [
         "C059",
         "Manoj",
         "Chennai",
         "H02",
         "Sea View Resort",
         "Bangalore",
         "2023-11-02",
         3,
         7951,
         23853
        ],
        [
         "C060",
         "Priya",
         "Hyderabad",
         "H06",
         "Hotel Grand",
         "Kolkata",
         "2023-03-13",
         2,
         7414,
         14828
        ],
        [
         "C061",
         "Priya",
         "Kolkata",
         "H01",
         "Hotel Grand",
         "Pune",
         "2023-01-01",
         5,
         6290,
         31450
        ],
        [
         "C062",
         "Manoj",
         "Chennai",
         "H03",
         "Hotel Grand",
         "Mumbai",
         "2023-03-28",
         5,
         6919,
         34595
        ],
        [
         "C063",
         "Rohit",
         "Pune",
         "H04",
         "Comfort Suites",
         "Kolkata",
         "2023-11-07",
         2,
         4049,
         8098
        ],
        [
         "C064",
         "Kiran",
         "Pune",
         "H04",
         "Sea View Resort",
         "Bangalore",
         "2023-04-26",
         7,
         7886,
         55202
        ],
        [
         "C065",
         "Ravi",
         "Chennai",
         "H02",
         "Hotel Grand",
         "Pune",
         "2023-10-30",
         6,
         7964,
         47784
        ],
        [
         "C066",
         "Sunil",
         "Chennai",
         "H01",
         "Sunshine Inn",
         "Pune",
         "2023-03-11",
         3,
         3537,
         10611
        ],
        [
         "C067",
         "Amit",
         "Delhi",
         "H02",
         "Comfort Suites",
         "Kolkata",
         "2023-05-01",
         1,
         2713,
         2713
        ],
        [
         "C068",
         "Anita",
         "Bangalore",
         "H03",
         "Sunshine Inn",
         "Chennai",
         "2023-12-16",
         1,
         5238,
         5238
        ],
        [
         "C069",
         "Kiran",
         "Bangalore",
         "H03",
         "Sunshine Inn",
         "Delhi",
         "2023-03-17",
         5,
         3136,
         15680
        ],
        [
         "C070",
         "Sunil",
         "Mumbai",
         "H06",
         "Sunshine Inn",
         "Pune",
         "2023-05-05",
         7,
         2195,
         15365
        ]
       ],
       "datasetInfos": [
        {
         "name": "_sqldf",
         "schema": {
          "fields": [
           {
            "metadata": {},
            "name": "customer_id",
            "nullable": true,
            "type": "string"
           },
           {
            "metadata": {},
            "name": "customer_name",
            "nullable": true,
            "type": "string"
           },
           {
            "metadata": {},
            "name": "customer_city",
            "nullable": true,
            "type": "string"
           },
           {
            "metadata": {},
            "name": "hotel_id",
            "nullable": true,
            "type": "string"
           },
           {
            "metadata": {},
            "name": "hotel_name",
            "nullable": true,
            "type": "string"
           },
           {
            "metadata": {},
            "name": "hotel_city",
            "nullable": true,
            "type": "string"
           },
           {
            "metadata": {
             "__detected_date_formats": "yyyy-M-d"
            },
            "name": "booking_date",
            "nullable": true,
            "type": "date"
           },
           {
            "metadata": {},
            "name": "nights",
            "nullable": true,
            "type": "long"
           },
           {
            "metadata": {},
            "name": "price_per_night",
            "nullable": true,
            "type": "long"
           },
           {
            "metadata": {},
            "name": "total_amount",
            "nullable": true,
            "type": "long"
           }
          ],
          "type": "struct"
         },
         "tableIdentifier": null,
         "typeStr": "pyspark.sql.connect.dataframe.DataFrame"
        }
       ],
       "dbfsResultPath": null,
       "isJsonSchema": true,
       "metadata": {
        "createTempViewForImplicitDf": true,
        "dataframeName": "_sqldf",
        "executionCount": 3
       },
       "overflow": false,
       "plotOptions": {
        "customPlotOptions": {},
        "displayType": "table",
        "pivotAggregation": null,
        "pivotColumns": null,
        "xColumns": null,
        "yColumns": null
       },
       "removedWidgets": [],
       "schema": [
        {
         "metadata": "{}",
         "name": "customer_id",
         "type": "\"string\""
        },
        {
         "metadata": "{}",
         "name": "customer_name",
         "type": "\"string\""
        },
        {
         "metadata": "{}",
         "name": "customer_city",
         "type": "\"string\""
        },
        {
         "metadata": "{}",
         "name": "hotel_id",
         "type": "\"string\""
        },
        {
         "metadata": "{}",
         "name": "hotel_name",
         "type": "\"string\""
        },
        {
         "metadata": "{}",
         "name": "hotel_city",
         "type": "\"string\""
        },
        {
         "metadata": "{\"__detected_date_formats\": \"yyyy-M-d\"}",
         "name": "booking_date",
         "type": "\"date\""
        },
        {
         "metadata": "{}",
         "name": "nights",
         "type": "\"long\""
        },
        {
         "metadata": "{}",
         "name": "price_per_night",
         "type": "\"long\""
        },
        {
         "metadata": "{}",
         "name": "total_amount",
         "type": "\"long\""
        }
       ],
       "type": "table"
      }
     },
     "output_type": "display_data"
    }
   ],
   "source": [
    "%sql\n",
    "SELECT * FROM `dltpriya`.`default`.`bookings_dataset`;"
   ]
  },
  {
   "cell_type": "code",
   "execution_count": 0,
   "metadata": {
    "application/vnd.databricks.v1+cell": {
     "cellMetadata": {
      "byteLimit": 2048000,
      "implicitDf": true,
      "rowLimit": 10000
     },
     "inputWidgets": {},
     "nuid": "c65d3deb-6a76-4c70-8595-03b83813c6fd",
     "showTitle": false,
     "tableResultSettingsMap": {},
     "title": ""
    }
   },
   "outputs": [
    {
     "output_type": "display_data",
     "data": {
      "text/html": [
       "<style scoped>\n",
       "  .table-result-container {\n",
       "    max-height: 300px;\n",
       "    overflow: auto;\n",
       "  }\n",
       "  table, th, td {\n",
       "    border: 1px solid black;\n",
       "    border-collapse: collapse;\n",
       "  }\n",
       "  th, td {\n",
       "    padding: 5px;\n",
       "  }\n",
       "  th {\n",
       "    text-align: left;\n",
       "  }\n",
       "</style><div class='table-result-container'><table class='table-result'><thead style='background-color: white'><tr><th>customer_id</th><th>customer_name</th><th>customer_city</th><th>hotel_id</th><th>hotel_name</th><th>hotel_city</th><th>booking_date</th><th>nights</th><th>price_per_night</th><th>total_amount</th></tr></thead><tbody><tr><td>C001</td><td>Neha</td><td>Bangalore</td><td>H03</td><td>Hotel Grand</td><td>Mumbai</td><td>2023-05-26</td><td>2</td><td>6329</td><td>12658</td></tr><tr><td>C002</td><td>Neha</td><td>Bangalore</td><td>H01</td><td>Hotel Grand</td><td>Delhi</td><td>2023-11-29</td><td>5</td><td>4568</td><td>22840</td></tr><tr><td>C003</td><td>Amit</td><td>Hyderabad</td><td>H03</td><td>Sunshine Inn</td><td>Chennai</td><td>2023-08-18</td><td>5</td><td>5809</td><td>29045</td></tr><tr><td>C004</td><td>Sunil</td><td>Pune</td><td>H01</td><td>Sunshine Inn</td><td>Chennai</td><td>2023-03-07</td><td>4</td><td>4086</td><td>16344</td></tr><tr><td>C005</td><td>Manoj</td><td>Mumbai</td><td>H03</td><td>Sunshine Inn</td><td>Pune</td><td>2023-08-12</td><td>1</td><td>2136</td><td>2136</td></tr><tr><td>C006</td><td>Ravi</td><td>Pune</td><td>H05</td><td>Sunshine Inn</td><td>Delhi</td><td>2023-11-02</td><td>1</td><td>6470</td><td>6470</td></tr><tr><td>C007</td><td>Kiran</td><td>Chennai</td><td>H02</td><td>City Palace</td><td>Delhi</td><td>2023-09-08</td><td>6</td><td>2676</td><td>16056</td></tr><tr><td>C008</td><td>Amit</td><td>Hyderabad</td><td>H01</td><td>City Palace</td><td>Bangalore</td><td>2023-11-08</td><td>2</td><td>7001</td><td>14002</td></tr><tr><td>C009</td><td>Anita</td><td>Pune</td><td>H05</td><td>Sunshine Inn</td><td>Mumbai</td><td>2023-11-12</td><td>5</td><td>7963</td><td>39815</td></tr><tr><td>C010</td><td>Sunil</td><td>Delhi</td><td>H05</td><td>Sunshine Inn</td><td>Mumbai</td><td>2023-04-07</td><td>6</td><td>5646</td><td>33876</td></tr><tr><td>C011</td><td>Kiran</td><td>Hyderabad</td><td>H05</td><td>Comfort Suites</td><td>Kolkata</td><td>2023-06-15</td><td>1</td><td>7275</td><td>7275</td></tr><tr><td>C012</td><td>Kiran</td><td>Chennai</td><td>H06</td><td>Sea View Resort</td><td>Chennai</td><td>2023-05-30</td><td>2</td><td>7657</td><td>15314</td></tr><tr><td>C013</td><td>Neha</td><td>Hyderabad</td><td>H04</td><td>Sea View Resort</td><td>Kolkata</td><td>2023-10-14</td><td>4</td><td>2388</td><td>9552</td></tr><tr><td>C014</td><td>Priya</td><td>Bangalore</td><td>H04</td><td>Sea View Resort</td><td>Chennai</td><td>2023-04-12</td><td>6</td><td>6307</td><td>37842</td></tr><tr><td>C015</td><td>Anita</td><td>Hyderabad</td><td>H04</td><td>Comfort Suites</td><td>Delhi</td><td>2023-08-18</td><td>5</td><td>6503</td><td>32515</td></tr><tr><td>C016</td><td>Anita</td><td>Mumbai</td><td>H06</td><td>Hotel Grand</td><td>Mumbai</td><td>2023-09-07</td><td>3</td><td>5099</td><td>15297</td></tr><tr><td>C017</td><td>Kiran</td><td>Mumbai</td><td>H03</td><td>City Palace</td><td>Delhi</td><td>2023-12-17</td><td>7</td><td>5223</td><td>36561</td></tr><tr><td>C018</td><td>Neha</td><td>Pune</td><td>H03</td><td>Royal Stay</td><td>Delhi</td><td>2023-09-23</td><td>2</td><td>6791</td><td>13582</td></tr><tr><td>C019</td><td>Sneha</td><td>Bangalore</td><td>H05</td><td>Royal Stay</td><td>Hyderabad</td><td>2023-12-02</td><td>4</td><td>2052</td><td>8208</td></tr><tr><td>C020</td><td>Sneha</td><td>Chennai</td><td>H02</td><td>Comfort Suites</td><td>Pune</td><td>2023-05-01</td><td>2</td><td>3131</td><td>6262</td></tr></tbody></table></div>"
      ]
     },
     "metadata": {
      "application/vnd.databricks.v1+output": {
       "addedWidgets": {},
       "aggData": [],
       "aggError": "",
       "aggOverflow": false,
       "aggSchema": [],
       "aggSeriesLimitReached": false,
       "aggType": "",
       "arguments": {},
       "columnCustomDisplayInfos": {},
       "data": [
        [
         "C001",
         "Neha",
         "Bangalore",
         "H03",
         "Hotel Grand",
         "Mumbai",
         "2023-05-26",
         2,
         6329,
         12658
        ],
        [
         "C002",
         "Neha",
         "Bangalore",
         "H01",
         "Hotel Grand",
         "Delhi",
         "2023-11-29",
         5,
         4568,
         22840
        ],
        [
         "C003",
         "Amit",
         "Hyderabad",
         "H03",
         "Sunshine Inn",
         "Chennai",
         "2023-08-18",
         5,
         5809,
         29045
        ],
        [
         "C004",
         "Sunil",
         "Pune",
         "H01",
         "Sunshine Inn",
         "Chennai",
         "2023-03-07",
         4,
         4086,
         16344
        ],
        [
         "C005",
         "Manoj",
         "Mumbai",
         "H03",
         "Sunshine Inn",
         "Pune",
         "2023-08-12",
         1,
         2136,
         2136
        ],
        [
         "C006",
         "Ravi",
         "Pune",
         "H05",
         "Sunshine Inn",
         "Delhi",
         "2023-11-02",
         1,
         6470,
         6470
        ],
        [
         "C007",
         "Kiran",
         "Chennai",
         "H02",
         "City Palace",
         "Delhi",
         "2023-09-08",
         6,
         2676,
         16056
        ],
        [
         "C008",
         "Amit",
         "Hyderabad",
         "H01",
         "City Palace",
         "Bangalore",
         "2023-11-08",
         2,
         7001,
         14002
        ],
        [
         "C009",
         "Anita",
         "Pune",
         "H05",
         "Sunshine Inn",
         "Mumbai",
         "2023-11-12",
         5,
         7963,
         39815
        ],
        [
         "C010",
         "Sunil",
         "Delhi",
         "H05",
         "Sunshine Inn",
         "Mumbai",
         "2023-04-07",
         6,
         5646,
         33876
        ],
        [
         "C011",
         "Kiran",
         "Hyderabad",
         "H05",
         "Comfort Suites",
         "Kolkata",
         "2023-06-15",
         1,
         7275,
         7275
        ],
        [
         "C012",
         "Kiran",
         "Chennai",
         "H06",
         "Sea View Resort",
         "Chennai",
         "2023-05-30",
         2,
         7657,
         15314
        ],
        [
         "C013",
         "Neha",
         "Hyderabad",
         "H04",
         "Sea View Resort",
         "Kolkata",
         "2023-10-14",
         4,
         2388,
         9552
        ],
        [
         "C014",
         "Priya",
         "Bangalore",
         "H04",
         "Sea View Resort",
         "Chennai",
         "2023-04-12",
         6,
         6307,
         37842
        ],
        [
         "C015",
         "Anita",
         "Hyderabad",
         "H04",
         "Comfort Suites",
         "Delhi",
         "2023-08-18",
         5,
         6503,
         32515
        ],
        [
         "C016",
         "Anita",
         "Mumbai",
         "H06",
         "Hotel Grand",
         "Mumbai",
         "2023-09-07",
         3,
         5099,
         15297
        ],
        [
         "C017",
         "Kiran",
         "Mumbai",
         "H03",
         "City Palace",
         "Delhi",
         "2023-12-17",
         7,
         5223,
         36561
        ],
        [
         "C018",
         "Neha",
         "Pune",
         "H03",
         "Royal Stay",
         "Delhi",
         "2023-09-23",
         2,
         6791,
         13582
        ],
        [
         "C019",
         "Sneha",
         "Bangalore",
         "H05",
         "Royal Stay",
         "Hyderabad",
         "2023-12-02",
         4,
         2052,
         8208
        ],
        [
         "C020",
         "Sneha",
         "Chennai",
         "H02",
         "Comfort Suites",
         "Pune",
         "2023-05-01",
         2,
         3131,
         6262
        ]
       ],
       "datasetInfos": [
        {
         "name": "_sqldf",
         "schema": {
          "fields": [
           {
            "metadata": {},
            "name": "customer_id",
            "nullable": true,
            "type": "string"
           },
           {
            "metadata": {},
            "name": "customer_name",
            "nullable": true,
            "type": "string"
           },
           {
            "metadata": {},
            "name": "customer_city",
            "nullable": true,
            "type": "string"
           },
           {
            "metadata": {},
            "name": "hotel_id",
            "nullable": true,
            "type": "string"
           },
           {
            "metadata": {},
            "name": "hotel_name",
            "nullable": true,
            "type": "string"
           },
           {
            "metadata": {},
            "name": "hotel_city",
            "nullable": true,
            "type": "string"
           },
           {
            "metadata": {
             "__detected_date_formats": "yyyy-M-d"
            },
            "name": "booking_date",
            "nullable": true,
            "type": "date"
           },
           {
            "metadata": {},
            "name": "nights",
            "nullable": true,
            "type": "long"
           },
           {
            "metadata": {},
            "name": "price_per_night",
            "nullable": true,
            "type": "long"
           },
           {
            "metadata": {},
            "name": "total_amount",
            "nullable": true,
            "type": "long"
           }
          ],
          "type": "struct"
         },
         "tableIdentifier": null,
         "typeStr": "pyspark.sql.connect.dataframe.DataFrame"
        }
       ],
       "dbfsResultPath": null,
       "isJsonSchema": true,
       "metadata": {
        "createTempViewForImplicitDf": true,
        "dataframeName": "_sqldf",
        "executionCount": 7
       },
       "overflow": false,
       "plotOptions": {
        "customPlotOptions": {},
        "displayType": "table",
        "pivotAggregation": null,
        "pivotColumns": null,
        "xColumns": null,
        "yColumns": null
       },
       "removedWidgets": [],
       "schema": [
        {
         "metadata": "{}",
         "name": "customer_id",
         "type": "\"string\""
        },
        {
         "metadata": "{}",
         "name": "customer_name",
         "type": "\"string\""
        },
        {
         "metadata": "{}",
         "name": "customer_city",
         "type": "\"string\""
        },
        {
         "metadata": "{}",
         "name": "hotel_id",
         "type": "\"string\""
        },
        {
         "metadata": "{}",
         "name": "hotel_name",
         "type": "\"string\""
        },
        {
         "metadata": "{}",
         "name": "hotel_city",
         "type": "\"string\""
        },
        {
         "metadata": "{\"__detected_date_formats\": \"yyyy-M-d\"}",
         "name": "booking_date",
         "type": "\"date\""
        },
        {
         "metadata": "{}",
         "name": "nights",
         "type": "\"long\""
        },
        {
         "metadata": "{}",
         "name": "price_per_night",
         "type": "\"long\""
        },
        {
         "metadata": "{}",
         "name": "total_amount",
         "type": "\"long\""
        }
       ],
       "type": "table"
      }
     },
     "output_type": "display_data"
    }
   ],
   "source": [
    "%sql\n",
    "-- Preview Data\n",
    "\n",
    "SELECT * FROM dltpriya.default.bookings_dataset LIMIT 20;"
   ]
  },
  {
   "cell_type": "code",
   "execution_count": 0,
   "metadata": {
    "application/vnd.databricks.v1+cell": {
     "cellMetadata": {
      "byteLimit": 2048000,
      "implicitDf": true,
      "rowLimit": 10000
     },
     "inputWidgets": {},
     "nuid": "ba86985c-a0a4-41f8-9cc0-4474f22541da",
     "showTitle": false,
     "tableResultSettingsMap": {},
     "title": ""
    }
   },
   "outputs": [
    {
     "output_type": "display_data",
     "data": {
      "text/html": [
       "<style scoped>\n",
       "  .table-result-container {\n",
       "    max-height: 300px;\n",
       "    overflow: auto;\n",
       "  }\n",
       "  table, th, td {\n",
       "    border: 1px solid black;\n",
       "    border-collapse: collapse;\n",
       "  }\n",
       "  th, td {\n",
       "    padding: 5px;\n",
       "  }\n",
       "  th {\n",
       "    text-align: left;\n",
       "  }\n",
       "</style><div class='table-result-container'><table class='table-result'><thead style='background-color: white'><tr><th>hotel_city</th><th>total_revenue</th></tr></thead><tbody><tr><td>Mumbai</td><td>367046</td></tr><tr><td>Delhi</td><td>324409</td></tr><tr><td>Kolkata</td><td>193126</td></tr><tr><td>Pune</td><td>175996</td></tr><tr><td>Bangalore</td><td>160296</td></tr><tr><td>Chennai</td><td>154612</td></tr><tr><td>Hyderabad</td><td>69928</td></tr></tbody></table></div>"
      ]
     },
     "metadata": {
      "application/vnd.databricks.v1+output": {
       "addedWidgets": {},
       "aggData": [],
       "aggError": "",
       "aggOverflow": false,
       "aggSchema": [],
       "aggSeriesLimitReached": false,
       "aggType": "",
       "arguments": {},
       "columnCustomDisplayInfos": {},
       "data": [
        [
         "Mumbai",
         367046
        ],
        [
         "Delhi",
         324409
        ],
        [
         "Kolkata",
         193126
        ],
        [
         "Pune",
         175996
        ],
        [
         "Bangalore",
         160296
        ],
        [
         "Chennai",
         154612
        ],
        [
         "Hyderabad",
         69928
        ]
       ],
       "datasetInfos": [
        {
         "name": "_sqldf",
         "schema": {
          "fields": [
           {
            "metadata": {},
            "name": "hotel_city",
            "nullable": true,
            "type": "string"
           },
           {
            "metadata": {},
            "name": "total_revenue",
            "nullable": true,
            "type": "long"
           }
          ],
          "type": "struct"
         },
         "tableIdentifier": null,
         "typeStr": "pyspark.sql.connect.dataframe.DataFrame"
        }
       ],
       "dbfsResultPath": null,
       "isJsonSchema": true,
       "metadata": {
        "createTempViewForImplicitDf": true,
        "dataframeName": "_sqldf",
        "executionCount": 17
       },
       "overflow": false,
       "plotOptions": {
        "customPlotOptions": {},
        "displayType": "table",
        "pivotAggregation": null,
        "pivotColumns": null,
        "xColumns": null,
        "yColumns": null
       },
       "removedWidgets": [],
       "schema": [
        {
         "metadata": "{}",
         "name": "hotel_city",
         "type": "\"string\""
        },
        {
         "metadata": "{}",
         "name": "total_revenue",
         "type": "\"long\""
        }
       ],
       "type": "table"
      }
     },
     "output_type": "display_data"
    },
    {
     "output_type": "display_data",
     "data": {
      "text/plain": [
       "Databricks visualization. Run in Databricks to view."
      ]
     },
     "metadata": {
      "application/vnd.databricks.v1.subcommand+json": {
       "baseErrorDetails": null,
       "bindings": {},
       "collapsed": false,
       "command": "%sql WITH q AS (SELECT hotel_city, SUM(total_amount) AS total_revenue\nFROM dltpriya.default.bookings_dataset\nGROUP BY hotel_city\nORDER BY total_revenue DESC) SELECT `hotel_city`,SUM(`total_revenue`) `column_c59b1e07262` FROM q GROUP BY `hotel_city`",
       "commandTitle": "Visualization 1",
       "commandType": "auto",
       "commandVersion": 0,
       "commentThread": [],
       "commentsVisible": false,
       "contentSha256Hex": null,
       "customPlotOptions": {
        "redashChart": [
         {
          "key": "type",
          "value": "CHART"
         },
         {
          "key": "options",
          "value": {
           "alignYAxesAtZero": true,
           "coefficient": 1,
           "columnConfigurationMap": {
            "x": {
             "column": "hotel_city",
             "id": "column_c59b1e07261"
            },
            "y": [
             {
              "column": "total_revenue",
              "id": "column_c59b1e07262",
              "transform": "SUM"
             }
            ]
           },
           "dateTimeFormat": "DD/MM/YYYY HH:mm",
           "direction": {
            "type": "counterclockwise"
           },
           "error_y": {
            "type": "data",
            "visible": true
           },
           "globalSeriesType": "column",
           "isAggregationOn": true,
           "legend": {
            "traceorder": "normal"
           },
           "missingValuesAsZero": true,
           "numberFormat": "0,0.[00000]",
           "percentFormat": "0[.]00%",
           "series": {
            "error_y": {
             "type": "data",
             "visible": true
            },
            "stacking": null
           },
           "seriesOptions": {
            "column_c59b1e07262": {
             "name": "total_revenue",
             "yAxis": 0
            }
           },
           "showDataLabels": false,
           "sizemode": "diameter",
           "sortX": true,
           "sortY": true,
           "swappedAxes": false,
           "textFormat": "",
           "useAggregationsUi": true,
           "valuesOptions": {},
           "version": 2,
           "xAxis": {
            "labels": {
             "enabled": true
            },
            "type": "-"
           },
           "yAxis": [
            {
             "type": "-"
            },
            {
             "opposite": true,
             "type": "-"
            }
           ]
          }
         }
        ]
       },
       "datasetPreviewNameToCmdIdMap": {},
       "diffDeletes": [],
       "diffInserts": [],
       "displayType": "redashChart",
       "error": null,
       "errorDetails": null,
       "errorSummary": null,
       "errorTraceType": null,
       "finishTime": 0,
       "globalVars": {},
       "guid": "",
       "height": "auto",
       "hideCommandCode": false,
       "hideCommandResult": false,
       "iPythonMetadata": null,
       "inputWidgets": {},
       "isLockedInExamMode": false,
       "latestUser": "a user",
       "latestUserId": null,
       "listResultMetadata": null,
       "metadata": {},
       "nuid": "6c872ebb-1eeb-41af-a335-7b1c2fd18931",
       "origId": 0,
       "parentHierarchy": [],
       "pivotAggregation": null,
       "pivotColumns": null,
       "position": 5.0,
       "resultDbfsErrorMessage": null,
       "resultDbfsStatus": "INLINED_IN_TREE",
       "results": null,
       "showCommandTitle": false,
       "startTime": 0,
       "state": "input",
       "streamStates": {},
       "subcommandOptions": {
        "queryPlan": {
         "groups": [
          {
           "column": "hotel_city",
           "type": "column"
          }
         ],
         "selects": [
          {
           "column": "hotel_city",
           "type": "column"
          },
          {
           "alias": "column_c59b1e07262",
           "args": [
            {
             "column": "total_revenue",
             "type": "column"
            }
           ],
           "function": "SUM",
           "type": "function"
          }
         ]
        }
       },
       "submitTime": 0,
       "subtype": "tableResultSubCmd.visualization",
       "tableResultIndex": 0,
       "tableResultSettingsMap": {},
       "useConsistentColors": false,
       "version": "CommandV1",
       "width": "auto",
       "workflows": [],
       "xColumns": null,
       "yColumns": null
      }
     },
     "output_type": "display_data"
    }
   ],
   "source": [
    "%sql\n",
    "-- Example 1: Total Revenue by City\n",
    "SELECT hotel_city, SUM(total_amount) AS total_revenue\n",
    "FROM dltpriya.default.bookings_dataset\n",
    "GROUP BY hotel_city\n",
    "ORDER BY total_revenue DESC;|\n"
   ]
  },
  {
   "cell_type": "code",
   "execution_count": 0,
   "metadata": {
    "application/vnd.databricks.v1+cell": {
     "cellMetadata": {
      "byteLimit": 2048000,
      "implicitDf": true,
      "rowLimit": 10000
     },
     "inputWidgets": {},
     "nuid": "88e51373-8c45-4b77-8795-7078b195644e",
     "showTitle": false,
     "tableResultSettingsMap": {},
     "title": ""
    }
   },
   "outputs": [
    {
     "output_type": "display_data",
     "data": {
      "text/html": [
       "<style scoped>\n",
       "  .table-result-container {\n",
       "    max-height: 300px;\n",
       "    overflow: auto;\n",
       "  }\n",
       "  table, th, td {\n",
       "    border: 1px solid black;\n",
       "    border-collapse: collapse;\n",
       "  }\n",
       "  th, td {\n",
       "    padding: 5px;\n",
       "  }\n",
       "  th {\n",
       "    text-align: left;\n",
       "  }\n",
       "</style><div class='table-result-container'><table class='table-result'><thead style='background-color: white'><tr><th>hotel_name</th><th>avg_nights</th></tr></thead><tbody><tr><td>Sea View Resort</td><td>3.875</td></tr><tr><td>Royal Stay</td><td>3.2</td></tr><tr><td>Comfort Suites</td><td>3.4545454545454546</td></tr><tr><td>Sunshine Inn</td><td>4.538461538461538</td></tr><tr><td>Hotel Grand</td><td>3.625</td></tr><tr><td>City Palace</td><td>4.75</td></tr></tbody></table></div>"
      ]
     },
     "metadata": {
      "application/vnd.databricks.v1+output": {
       "addedWidgets": {},
       "aggData": [],
       "aggError": "",
       "aggOverflow": false,
       "aggSchema": [],
       "aggSeriesLimitReached": false,
       "aggType": "",
       "arguments": {},
       "columnCustomDisplayInfos": {},
       "data": [
        [
         "Sea View Resort",
         3.875
        ],
        [
         "Royal Stay",
         3.2
        ],
        [
         "Comfort Suites",
         3.4545454545454546
        ],
        [
         "Sunshine Inn",
         4.538461538461538
        ],
        [
         "Hotel Grand",
         3.625
        ],
        [
         "City Palace",
         4.75
        ]
       ],
       "datasetInfos": [
        {
         "name": "_sqldf",
         "schema": {
          "fields": [
           {
            "metadata": {},
            "name": "hotel_name",
            "nullable": true,
            "type": "string"
           },
           {
            "metadata": {},
            "name": "avg_nights",
            "nullable": true,
            "type": "double"
           }
          ],
          "type": "struct"
         },
         "tableIdentifier": null,
         "typeStr": "pyspark.sql.connect.dataframe.DataFrame"
        }
       ],
       "dbfsResultPath": null,
       "isJsonSchema": true,
       "metadata": {
        "createTempViewForImplicitDf": true,
        "dataframeName": "_sqldf",
        "executionCount": 19
       },
       "overflow": false,
       "plotOptions": {
        "customPlotOptions": {},
        "displayType": "table",
        "pivotAggregation": null,
        "pivotColumns": null,
        "xColumns": null,
        "yColumns": null
       },
       "removedWidgets": [],
       "schema": [
        {
         "metadata": "{}",
         "name": "hotel_name",
         "type": "\"string\""
        },
        {
         "metadata": "{}",
         "name": "avg_nights",
         "type": "\"double\""
        }
       ],
       "type": "table"
      }
     },
     "output_type": "display_data"
    },
    {
     "output_type": "display_data",
     "data": {
      "text/plain": [
       "Databricks visualization. Run in Databricks to view."
      ]
     },
     "metadata": {
      "application/vnd.databricks.v1.subcommand+json": {
       "baseErrorDetails": null,
       "bindings": {},
       "collapsed": false,
       "command": "%sql WITH q AS (SELECT hotel_name, AVG(nights) AS avg_nights\nFROM dltpriya.default.bookings_dataset\nGROUP BY hotel_name) SELECT `hotel_name`,SUM(`avg_nights`) `column_c59b1e07266` FROM q GROUP BY `hotel_name`",
       "commandTitle": "Visualization 1",
       "commandType": "auto",
       "commandVersion": 0,
       "commentThread": [],
       "commentsVisible": false,
       "contentSha256Hex": null,
       "customPlotOptions": {
        "redashChart": [
         {
          "key": "type",
          "value": "CHART"
         },
         {
          "key": "options",
          "value": {
           "alignYAxesAtZero": true,
           "coefficient": 1,
           "columnConfigurationMap": {
            "x": {
             "column": "hotel_name",
             "id": "column_c59b1e07265"
            },
            "y": [
             {
              "column": "avg_nights",
              "id": "column_c59b1e07266",
              "transform": "SUM"
             }
            ]
           },
           "dateTimeFormat": "DD/MM/YYYY HH:mm",
           "direction": {
            "type": "counterclockwise"
           },
           "error_y": {
            "type": "data",
            "visible": true
           },
           "globalSeriesType": "pie",
           "legend": {
            "traceorder": "normal"
           },
           "missingValuesAsZero": true,
           "numberFormat": "0,0.[00000]",
           "percentFormat": "0[.]00%",
           "series": {
            "error_y": {
             "type": "data",
             "visible": true
            },
            "stacking": null
           },
           "seriesOptions": {
            "column_c59b1e07266": {
             "name": "avg_nights",
             "type": "pie",
             "yAxis": 0
            }
           },
           "showDataLabels": true,
           "sizemode": "diameter",
           "sortX": true,
           "sortY": true,
           "swappedAxes": false,
           "textFormat": "",
           "useAggregationsUi": true,
           "valuesOptions": {},
           "version": 2,
           "xAxis": {
            "labels": {
             "enabled": true
            },
            "type": "-"
           },
           "yAxis": [
            {
             "type": "-"
            },
            {
             "opposite": true,
             "type": "-"
            }
           ]
          }
         }
        ]
       },
       "datasetPreviewNameToCmdIdMap": {},
       "diffDeletes": [],
       "diffInserts": [],
       "displayType": "redashChart",
       "error": null,
       "errorDetails": null,
       "errorSummary": null,
       "errorTraceType": null,
       "finishTime": 0,
       "globalVars": {},
       "guid": "",
       "height": "auto",
       "hideCommandCode": false,
       "hideCommandResult": false,
       "iPythonMetadata": null,
       "inputWidgets": {},
       "isLockedInExamMode": false,
       "latestUser": "a user",
       "latestUserId": null,
       "listResultMetadata": null,
       "metadata": {},
       "nuid": "fdcdd552-d7a0-467f-9fba-d62cb99c32c6",
       "origId": 0,
       "parentHierarchy": [],
       "pivotAggregation": null,
       "pivotColumns": null,
       "position": 6.0,
       "resultDbfsErrorMessage": null,
       "resultDbfsStatus": "INLINED_IN_TREE",
       "results": null,
       "showCommandTitle": false,
       "startTime": 0,
       "state": "input",
       "streamStates": {},
       "subcommandOptions": {
        "queryPlan": {
         "groups": [
          {
           "column": "hotel_name",
           "type": "column"
          }
         ],
         "selects": [
          {
           "column": "hotel_name",
           "type": "column"
          },
          {
           "alias": "column_c59b1e07266",
           "args": [
            {
             "column": "avg_nights",
             "type": "column"
            }
           ],
           "function": "SUM",
           "type": "function"
          }
         ]
        }
       },
       "submitTime": 0,
       "subtype": "tableResultSubCmd.visualization",
       "tableResultIndex": 0,
       "tableResultSettingsMap": {},
       "useConsistentColors": false,
       "version": "CommandV1",
       "width": "auto",
       "workflows": [],
       "xColumns": null,
       "yColumns": null
      }
     },
     "output_type": "display_data"
    }
   ],
   "source": [
    "%sql\n",
    "-- Example 3: Average Nights Stayed per Hotel\n",
    "SELECT hotel_name, AVG(nights) AS avg_nights\n",
    "FROM dltpriya.default.bookings_dataset\n",
    "GROUP BY hotel_name;"
   ]
  },
  {
   "cell_type": "code",
   "execution_count": 0,
   "metadata": {
    "application/vnd.databricks.v1+cell": {
     "cellMetadata": {
      "byteLimit": 2048000,
      "implicitDf": true,
      "rowLimit": 10000
     },
     "inputWidgets": {},
     "nuid": "e7ca4677-e77f-440f-a468-078a365b8e0d",
     "showTitle": false,
     "tableResultSettingsMap": {},
     "title": ""
    }
   },
   "outputs": [
    {
     "output_type": "display_data",
     "data": {
      "text/html": [
       "<style scoped>\n",
       "  .table-result-container {\n",
       "    max-height: 300px;\n",
       "    overflow: auto;\n",
       "  }\n",
       "  table, th, td {\n",
       "    border: 1px solid black;\n",
       "    border-collapse: collapse;\n",
       "  }\n",
       "  th, td {\n",
       "    padding: 5px;\n",
       "  }\n",
       "  th {\n",
       "    text-align: left;\n",
       "  }\n",
       "</style><div class='table-result-container'><table class='table-result'><thead style='background-color: white'><tr><th>month</th><th>total_bookings</th></tr></thead><tbody><tr><td>2023-01</td><td>3</td></tr><tr><td>2023-02</td><td>1</td></tr><tr><td>2023-03</td><td>8</td></tr><tr><td>2023-04</td><td>6</td></tr><tr><td>2023-05</td><td>7</td></tr><tr><td>2023-06</td><td>5</td></tr><tr><td>2023-07</td><td>3</td></tr><tr><td>2023-08</td><td>5</td></tr><tr><td>2023-09</td><td>6</td></tr><tr><td>2023-10</td><td>10</td></tr><tr><td>2023-11</td><td>10</td></tr><tr><td>2023-12</td><td>6</td></tr></tbody></table></div>"
      ]
     },
     "metadata": {
      "application/vnd.databricks.v1+output": {
       "addedWidgets": {},
       "aggData": [],
       "aggError": "",
       "aggOverflow": false,
       "aggSchema": [],
       "aggSeriesLimitReached": false,
       "aggType": "",
       "arguments": {},
       "columnCustomDisplayInfos": {},
       "data": [
        [
         "2023-01",
         3
        ],
        [
         "2023-02",
         1
        ],
        [
         "2023-03",
         8
        ],
        [
         "2023-04",
         6
        ],
        [
         "2023-05",
         7
        ],
        [
         "2023-06",
         5
        ],
        [
         "2023-07",
         3
        ],
        [
         "2023-08",
         5
        ],
        [
         "2023-09",
         6
        ],
        [
         "2023-10",
         10
        ],
        [
         "2023-11",
         10
        ],
        [
         "2023-12",
         6
        ]
       ],
       "datasetInfos": [
        {
         "name": "_sqldf",
         "schema": {
          "fields": [
           {
            "metadata": {},
            "name": "month",
            "nullable": true,
            "type": "string"
           },
           {
            "metadata": {},
            "name": "total_bookings",
            "nullable": false,
            "type": "long"
           }
          ],
          "type": "struct"
         },
         "tableIdentifier": null,
         "typeStr": "pyspark.sql.connect.dataframe.DataFrame"
        }
       ],
       "dbfsResultPath": null,
       "isJsonSchema": true,
       "metadata": {
        "createTempViewForImplicitDf": true,
        "dataframeName": "_sqldf",
        "executionCount": 21
       },
       "overflow": false,
       "plotOptions": {
        "customPlotOptions": {},
        "displayType": "table",
        "pivotAggregation": null,
        "pivotColumns": null,
        "xColumns": null,
        "yColumns": null
       },
       "removedWidgets": [],
       "schema": [
        {
         "metadata": "{}",
         "name": "month",
         "type": "\"string\""
        },
        {
         "metadata": "{}",
         "name": "total_bookings",
         "type": "\"long\""
        }
       ],
       "type": "table"
      }
     },
     "output_type": "display_data"
    },
    {
     "output_type": "display_data",
     "data": {
      "text/plain": [
       "Databricks visualization. Run in Databricks to view."
      ]
     },
     "metadata": {
      "application/vnd.databricks.v1.subcommand+json": {
       "baseErrorDetails": null,
       "bindings": {},
       "collapsed": false,
       "command": "%sql WITH q AS (SELECT \n    DATE_FORMAT(booking_date, 'yyyy-MM') AS month,\n    COUNT(*) AS total_bookings\nFROM dltpriya.default.bookings_dataset\nGROUP BY month\nORDER BY month) SELECT `month`,SUM(`total_bookings`) `column_c59b1e07270` FROM q GROUP BY `month`",
       "commandTitle": "Visualization 1",
       "commandType": "auto",
       "commandVersion": 0,
       "commentThread": [],
       "commentsVisible": false,
       "contentSha256Hex": null,
       "customPlotOptions": {
        "redashChart": [
         {
          "key": "type",
          "value": "CHART"
         },
         {
          "key": "options",
          "value": {
           "alignYAxesAtZero": true,
           "coefficient": 1,
           "columnConfigurationMap": {
            "x": {
             "column": "month",
             "id": "column_c59b1e07269"
            },
            "y": [
             {
              "column": "total_bookings",
              "id": "column_c59b1e07270",
              "transform": "SUM"
             }
            ]
           },
           "dateTimeFormat": "DD/MM/YYYY HH:mm",
           "direction": {
            "type": "counterclockwise"
           },
           "error_y": {
            "type": "data",
            "visible": true
           },
           "globalSeriesType": "area",
           "legend": {
            "traceorder": "normal"
           },
           "missingValuesAsZero": true,
           "numberFormat": "0,0.[00000]",
           "percentFormat": "0[.]00%",
           "series": {
            "error_y": {
             "type": "data",
             "visible": true
            },
            "stacking": null
           },
           "seriesOptions": {
            "column_c59b1e07270": {
             "name": "total_bookings",
             "type": "area",
             "yAxis": 0
            }
           },
           "showDataLabels": false,
           "sizemode": "diameter",
           "sortX": true,
           "sortY": true,
           "swappedAxes": false,
           "textFormat": "",
           "useAggregationsUi": true,
           "valuesOptions": {},
           "version": 2,
           "xAxis": {
            "labels": {
             "enabled": true
            },
            "type": "-"
           },
           "yAxis": [
            {
             "type": "-"
            },
            {
             "opposite": true,
             "type": "-"
            }
           ]
          }
         }
        ]
       },
       "datasetPreviewNameToCmdIdMap": {},
       "diffDeletes": [],
       "diffInserts": [],
       "displayType": "redashChart",
       "error": null,
       "errorDetails": null,
       "errorSummary": null,
       "errorTraceType": null,
       "finishTime": 0,
       "globalVars": {},
       "guid": "",
       "height": "auto",
       "hideCommandCode": false,
       "hideCommandResult": false,
       "iPythonMetadata": null,
       "inputWidgets": {},
       "isLockedInExamMode": false,
       "latestUser": "a user",
       "latestUserId": null,
       "listResultMetadata": null,
       "metadata": {},
       "nuid": "c8d5a66d-b7e7-4b22-aadd-5d0d98eaf6ef",
       "origId": 0,
       "parentHierarchy": [],
       "pivotAggregation": null,
       "pivotColumns": null,
       "position": 7.0,
       "resultDbfsErrorMessage": null,
       "resultDbfsStatus": "INLINED_IN_TREE",
       "results": null,
       "showCommandTitle": false,
       "startTime": 0,
       "state": "input",
       "streamStates": {},
       "subcommandOptions": {
        "queryPlan": {
         "groups": [
          {
           "column": "month",
           "type": "column"
          }
         ],
         "selects": [
          {
           "column": "month",
           "type": "column"
          },
          {
           "alias": "column_c59b1e07270",
           "args": [
            {
             "column": "total_bookings",
             "type": "column"
            }
           ],
           "function": "SUM",
           "type": "function"
          }
         ]
        }
       },
       "submitTime": 0,
       "subtype": "tableResultSubCmd.visualization",
       "tableResultIndex": 0,
       "tableResultSettingsMap": {},
       "useConsistentColors": false,
       "version": "CommandV1",
       "width": "auto",
       "workflows": [],
       "xColumns": null,
       "yColumns": null
      }
     },
     "output_type": "display_data"
    }
   ],
   "source": [
    "%sql\n",
    "--Monthly Booking Trends (Number of Bookings per Month)\n",
    "SELECT \n",
    "    DATE_FORMAT(booking_date, 'yyyy-MM') AS month,\n",
    "    COUNT(*) AS total_bookings\n",
    "FROM dltpriya.default.bookings_dataset\n",
    "GROUP BY month\n",
    "ORDER BY month;\n"
   ]
  },
  {
   "cell_type": "code",
   "execution_count": 0,
   "metadata": {
    "application/vnd.databricks.v1+cell": {
     "cellMetadata": {
      "byteLimit": 2048000,
      "implicitDf": true,
      "rowLimit": 10000
     },
     "inputWidgets": {},
     "nuid": "9de745e1-44d7-46d5-8a08-a1a041b4e80a",
     "showTitle": false,
     "tableResultSettingsMap": {},
     "title": ""
    }
   },
   "outputs": [
    {
     "output_type": "display_data",
     "data": {
      "text/html": [
       "<style scoped>\n",
       "  .table-result-container {\n",
       "    max-height: 300px;\n",
       "    overflow: auto;\n",
       "  }\n",
       "  table, th, td {\n",
       "    border: 1px solid black;\n",
       "    border-collapse: collapse;\n",
       "  }\n",
       "  th, td {\n",
       "    padding: 5px;\n",
       "  }\n",
       "  th {\n",
       "    text-align: left;\n",
       "  }\n",
       "</style><div class='table-result-container'><table class='table-result'><thead style='background-color: white'><tr><th>month</th><th>monthly_revenue</th></tr></thead><tbody><tr><td>2023-01</td><td>92910</td></tr><tr><td>2023-02</td><td>32011</td></tr><tr><td>2023-03</td><td>148274</td></tr><tr><td>2023-04</td><td>203034</td></tr><tr><td>2023-05</td><td>91753</td></tr><tr><td>2023-06</td><td>82875</td></tr><tr><td>2023-07</td><td>49506</td></tr><tr><td>2023-08</td><td>123219</td></tr><tr><td>2023-09</td><td>94033</td></tr><tr><td>2023-10</td><td>247770</td></tr><tr><td>2023-11</td><td>159255</td></tr><tr><td>2023-12</td><td>120773</td></tr></tbody></table></div>"
      ]
     },
     "metadata": {
      "application/vnd.databricks.v1+output": {
       "addedWidgets": {},
       "aggData": [],
       "aggError": "",
       "aggOverflow": false,
       "aggSchema": [],
       "aggSeriesLimitReached": false,
       "aggType": "",
       "arguments": {},
       "columnCustomDisplayInfos": {},
       "data": [
        [
         "2023-01",
         92910
        ],
        [
         "2023-02",
         32011
        ],
        [
         "2023-03",
         148274
        ],
        [
         "2023-04",
         203034
        ],
        [
         "2023-05",
         91753
        ],
        [
         "2023-06",
         82875
        ],
        [
         "2023-07",
         49506
        ],
        [
         "2023-08",
         123219
        ],
        [
         "2023-09",
         94033
        ],
        [
         "2023-10",
         247770
        ],
        [
         "2023-11",
         159255
        ],
        [
         "2023-12",
         120773
        ]
       ],
       "datasetInfos": [
        {
         "name": "_sqldf",
         "schema": {
          "fields": [
           {
            "metadata": {},
            "name": "month",
            "nullable": true,
            "type": "string"
           },
           {
            "metadata": {},
            "name": "monthly_revenue",
            "nullable": true,
            "type": "long"
           }
          ],
          "type": "struct"
         },
         "tableIdentifier": null,
         "typeStr": "pyspark.sql.connect.dataframe.DataFrame"
        }
       ],
       "dbfsResultPath": null,
       "isJsonSchema": true,
       "metadata": {
        "createTempViewForImplicitDf": true,
        "dataframeName": "_sqldf",
        "executionCount": 24
       },
       "overflow": false,
       "plotOptions": {
        "customPlotOptions": {},
        "displayType": "table",
        "pivotAggregation": null,
        "pivotColumns": null,
        "xColumns": null,
        "yColumns": null
       },
       "removedWidgets": [],
       "schema": [
        {
         "metadata": "{}",
         "name": "month",
         "type": "\"string\""
        },
        {
         "metadata": "{}",
         "name": "monthly_revenue",
         "type": "\"long\""
        }
       ],
       "type": "table"
      }
     },
     "output_type": "display_data"
    },
    {
     "output_type": "display_data",
     "data": {
      "text/plain": [
       "Databricks visualization. Run in Databricks to view."
      ]
     },
     "metadata": {
      "application/vnd.databricks.v1.subcommand+json": {
       "baseErrorDetails": null,
       "bindings": {},
       "collapsed": false,
       "command": "%sql WITH q AS (SELECT \n    DATE_FORMAT(booking_date, 'yyyy-MM') AS month,\n    SUM(total_amount) AS monthly_revenue\nFROM dltpriya.default.bookings_dataset\nGROUP BY month\nORDER BY month) SELECT `month`,SUM(`monthly_revenue`) `column_c59b1e07274` FROM q GROUP BY `month`",
       "commandTitle": "Visualization 1",
       "commandType": "auto",
       "commandVersion": 0,
       "commentThread": [],
       "commentsVisible": false,
       "contentSha256Hex": null,
       "customPlotOptions": {
        "redashChart": [
         {
          "key": "type",
          "value": "CHART"
         },
         {
          "key": "options",
          "value": {
           "alignYAxesAtZero": true,
           "coefficient": 1,
           "columnConfigurationMap": {
            "x": {
             "column": "month",
             "id": "column_c59b1e07273"
            },
            "y": [
             {
              "column": "monthly_revenue",
              "id": "column_c59b1e07274",
              "transform": "SUM"
             }
            ]
           },
           "dateTimeFormat": "DD/MM/YYYY HH:mm",
           "direction": {
            "type": "counterclockwise"
           },
           "error_y": {
            "type": "data",
            "visible": true
           },
           "globalSeriesType": "column",
           "legend": {
            "traceorder": "normal"
           },
           "missingValuesAsZero": true,
           "numberFormat": "0,0.[00000]",
           "percentFormat": "0[.]00%",
           "series": {
            "error_y": {
             "type": "data",
             "visible": true
            },
            "stacking": null
           },
           "seriesOptions": {
            "column_c59b1e07274": {
             "name": "monthly_revenue",
             "type": "column",
             "yAxis": 0
            }
           },
           "showDataLabels": false,
           "sizemode": "diameter",
           "sortX": true,
           "sortY": true,
           "swappedAxes": false,
           "textFormat": "",
           "useAggregationsUi": true,
           "valuesOptions": {},
           "version": 2,
           "xAxis": {
            "labels": {
             "enabled": true
            },
            "type": "-"
           },
           "yAxis": [
            {
             "type": "-"
            },
            {
             "opposite": true,
             "type": "-"
            }
           ]
          }
         }
        ]
       },
       "datasetPreviewNameToCmdIdMap": {},
       "diffDeletes": [],
       "diffInserts": [],
       "displayType": "redashChart",
       "error": null,
       "errorDetails": null,
       "errorSummary": null,
       "errorTraceType": null,
       "finishTime": 0,
       "globalVars": {},
       "guid": "",
       "height": "auto",
       "hideCommandCode": false,
       "hideCommandResult": false,
       "iPythonMetadata": null,
       "inputWidgets": {},
       "isLockedInExamMode": false,
       "latestUser": "a user",
       "latestUserId": null,
       "listResultMetadata": null,
       "metadata": {},
       "nuid": "597cde17-683e-4bb4-a838-913f185acc49",
       "origId": 0,
       "parentHierarchy": [],
       "pivotAggregation": null,
       "pivotColumns": null,
       "position": 8.0,
       "resultDbfsErrorMessage": null,
       "resultDbfsStatus": "INLINED_IN_TREE",
       "results": null,
       "showCommandTitle": false,
       "startTime": 0,
       "state": "input",
       "streamStates": {},
       "subcommandOptions": {
        "queryPlan": {
         "groups": [
          {
           "column": "month",
           "type": "column"
          }
         ],
         "selects": [
          {
           "column": "month",
           "type": "column"
          },
          {
           "alias": "column_c59b1e07274",
           "args": [
            {
             "column": "monthly_revenue",
             "type": "column"
            }
           ],
           "function": "SUM",
           "type": "function"
          }
         ]
        }
       },
       "submitTime": 0,
       "subtype": "tableResultSubCmd.visualization",
       "tableResultIndex": 0,
       "tableResultSettingsMap": {},
       "useConsistentColors": false,
       "version": "CommandV1",
       "width": "auto",
       "workflows": [],
       "xColumns": null,
       "yColumns": null
      }
     },
     "output_type": "display_data"
    }
   ],
   "source": [
    "%sql\n",
    "--Monthly Revenue Trends\n",
    "SELECT \n",
    "    DATE_FORMAT(booking_date, 'yyyy-MM') AS month,\n",
    "    SUM(total_amount) AS monthly_revenue\n",
    "FROM dltpriya.default.bookings_dataset\n",
    "GROUP BY month\n",
    "ORDER BY month;\n"
   ]
  },
  {
   "cell_type": "code",
   "execution_count": 0,
   "metadata": {
    "application/vnd.databricks.v1+cell": {
     "cellMetadata": {
      "byteLimit": 2048000,
      "implicitDf": true,
      "rowLimit": 10000
     },
     "inputWidgets": {},
     "nuid": "b424c5bb-8dfe-4a48-a281-c305bcfbbe69",
     "showTitle": false,
     "tableResultSettingsMap": {},
     "title": ""
    }
   },
   "outputs": [
    {
     "output_type": "display_data",
     "data": {
      "text/html": [
       "<style scoped>\n",
       "  .table-result-container {\n",
       "    max-height: 300px;\n",
       "    overflow: auto;\n",
       "  }\n",
       "  table, th, td {\n",
       "    border: 1px solid black;\n",
       "    border-collapse: collapse;\n",
       "  }\n",
       "  th, td {\n",
       "    padding: 5px;\n",
       "  }\n",
       "  th {\n",
       "    text-align: left;\n",
       "  }\n",
       "</style><div class='table-result-container'><table class='table-result'><thead style='background-color: white'><tr><th>quarter</th><th>total_bookings</th><th>total_revenue</th></tr></thead><tbody><tr><td>1</td><td>12</td><td>273195</td></tr><tr><td>2</td><td>18</td><td>377662</td></tr><tr><td>3</td><td>14</td><td>266758</td></tr><tr><td>4</td><td>26</td><td>527798</td></tr></tbody></table></div>"
      ]
     },
     "metadata": {
      "application/vnd.databricks.v1+output": {
       "addedWidgets": {},
       "aggData": [],
       "aggError": "",
       "aggOverflow": false,
       "aggSchema": [],
       "aggSeriesLimitReached": false,
       "aggType": "",
       "arguments": {},
       "columnCustomDisplayInfos": {},
       "data": [
        [
         1,
         12,
         273195
        ],
        [
         2,
         18,
         377662
        ],
        [
         3,
         14,
         266758
        ],
        [
         4,
         26,
         527798
        ]
       ],
       "datasetInfos": [
        {
         "name": "_sqldf",
         "schema": {
          "fields": [
           {
            "metadata": {},
            "name": "quarter",
            "nullable": true,
            "type": "integer"
           },
           {
            "metadata": {},
            "name": "total_bookings",
            "nullable": false,
            "type": "long"
           },
           {
            "metadata": {},
            "name": "total_revenue",
            "nullable": true,
            "type": "long"
           }
          ],
          "type": "struct"
         },
         "tableIdentifier": null,
         "typeStr": "pyspark.sql.connect.dataframe.DataFrame"
        }
       ],
       "dbfsResultPath": null,
       "isJsonSchema": true,
       "metadata": {
        "createTempViewForImplicitDf": true,
        "dataframeName": "_sqldf",
        "executionCount": 27
       },
       "overflow": false,
       "plotOptions": {
        "customPlotOptions": {},
        "displayType": "table",
        "pivotAggregation": null,
        "pivotColumns": null,
        "xColumns": null,
        "yColumns": null
       },
       "removedWidgets": [],
       "schema": [
        {
         "metadata": "{}",
         "name": "quarter",
         "type": "\"integer\""
        },
        {
         "metadata": "{}",
         "name": "total_bookings",
         "type": "\"long\""
        },
        {
         "metadata": "{}",
         "name": "total_revenue",
         "type": "\"long\""
        }
       ],
       "type": "table"
      }
     },
     "output_type": "display_data"
    },
    {
     "output_type": "display_data",
     "data": {
      "text/plain": [
       "Databricks visualization. Run in Databricks to view."
      ]
     },
     "metadata": {
      "application/vnd.databricks.v1.subcommand+json": {
       "baseErrorDetails": null,
       "bindings": {},
       "collapsed": false,
       "command": "%sql WITH q AS (SELECT \n    quarter(booking_date) AS quarter,\n    COUNT(*) AS total_bookings,\n    SUM(total_amount) AS total_revenue\nFROM dltpriya.default.bookings_dataset\nGROUP BY quarter\nORDER BY quarter) SELECT `total_bookings`,`total_revenue` FROM q GROUP BY `total_bookings`,`total_revenue`",
       "commandTitle": "Visualization 1",
       "commandType": "auto",
       "commandVersion": 0,
       "commentThread": [],
       "commentsVisible": false,
       "contentSha256Hex": null,
       "customPlotOptions": {
        "redashChart": [
         {
          "key": "type",
          "value": "CHART"
         },
         {
          "key": "options",
          "value": {
           "alignYAxesAtZero": true,
           "coefficient": 1,
           "columnConfigurationMap": {
            "series": {
             "column": "total_revenue",
             "id": "column_c59b1e07307"
            },
            "x": {
             "column": "total_bookings",
             "id": "column_c59b1e07306"
            },
            "y": []
           },
           "dateTimeFormat": "DD/MM/YYYY HH:mm",
           "direction": {
            "type": "counterclockwise"
           },
           "error_y": {
            "type": "data",
            "visible": true
           },
           "globalSeriesType": "column",
           "legend": {
            "traceorder": "normal"
           },
           "missingValuesAsZero": true,
           "numberFormat": "0,0.[00000]",
           "percentFormat": "0[.]00%",
           "series": {
            "error_y": {
             "type": "data",
             "visible": true
            },
            "stacking": null
           },
           "seriesOptions": {},
           "showDataLabels": false,
           "sizemode": "diameter",
           "sortX": true,
           "sortY": true,
           "swappedAxes": false,
           "textFormat": "",
           "useAggregationsUi": true,
           "valuesOptions": {},
           "version": 2,
           "xAxis": {
            "labels": {
             "enabled": true
            },
            "type": "-"
           },
           "yAxis": [
            {
             "type": "-"
            },
            {
             "opposite": true,
             "type": "-"
            }
           ]
          }
         }
        ]
       },
       "datasetPreviewNameToCmdIdMap": {},
       "diffDeletes": [],
       "diffInserts": [],
       "displayType": "redashChart",
       "error": null,
       "errorDetails": null,
       "errorSummary": null,
       "errorTraceType": null,
       "finishTime": 0,
       "globalVars": {},
       "guid": "",
       "height": "auto",
       "hideCommandCode": false,
       "hideCommandResult": false,
       "iPythonMetadata": null,
       "inputWidgets": {},
       "isLockedInExamMode": false,
       "latestUser": "a user",
       "latestUserId": null,
       "listResultMetadata": null,
       "metadata": {},
       "nuid": "1ebbeb7c-69d9-4d55-9772-34228d4c36da",
       "origId": 0,
       "parentHierarchy": [],
       "pivotAggregation": null,
       "pivotColumns": null,
       "position": 9.0,
       "resultDbfsErrorMessage": null,
       "resultDbfsStatus": "INLINED_IN_TREE",
       "results": null,
       "showCommandTitle": false,
       "startTime": 0,
       "state": "input",
       "streamStates": {},
       "subcommandOptions": {
        "queryPlan": {
         "groups": [
          {
           "column": "total_bookings",
           "type": "column"
          },
          {
           "column": "total_revenue",
           "type": "column"
          }
         ],
         "selects": [
          {
           "column": "total_bookings",
           "type": "column"
          },
          {
           "column": "total_revenue",
           "type": "column"
          }
         ]
        }
       },
       "submitTime": 0,
       "subtype": "tableResultSubCmd.visualization",
       "tableResultIndex": 0,
       "tableResultSettingsMap": {},
       "useConsistentColors": false,
       "version": "CommandV1",
       "width": "auto",
       "workflows": [],
       "xColumns": null,
       "yColumns": null
      }
     },
     "output_type": "display_data"
    }
   ],
   "source": [
    "%sql\n",
    "--Seasonal Trends by Quarter\n",
    "SELECT \n",
    "    quarter(booking_date) AS quarter,\n",
    "    COUNT(*) AS total_bookings,\n",
    "    SUM(total_amount) AS total_revenue\n",
    "FROM dltpriya.default.bookings_dataset\n",
    "GROUP BY quarter\n",
    "ORDER BY quarter;\n"
   ]
  },
  {
   "cell_type": "markdown",
   "metadata": {
    "application/vnd.databricks.v1+cell": {
     "cellMetadata": {},
     "inputWidgets": {},
     "nuid": "71483ea7-06b6-4f74-89f8-045ec971f69f",
     "showTitle": false,
     "tableResultSettingsMap": {},
     "title": ""
    }
   },
   "source": [
    "# pySpark Core"
   ]
  },
  {
   "cell_type": "code",
   "execution_count": 0,
   "metadata": {
    "application/vnd.databricks.v1+cell": {
     "cellMetadata": {
      "byteLimit": 2048000,
      "rowLimit": 10000
     },
     "inputWidgets": {},
     "nuid": "923fde7d-fcaf-434e-b474-0801781d8b7e",
     "showTitle": false,
     "tableResultSettingsMap": {},
     "title": ""
    }
   },
   "outputs": [
    {
     "output_type": "display_data",
     "data": {
      "text/html": [
       "<style scoped>\n",
       "  .table-result-container {\n",
       "    max-height: 300px;\n",
       "    overflow: auto;\n",
       "  }\n",
       "  table, th, td {\n",
       "    border: 1px solid black;\n",
       "    border-collapse: collapse;\n",
       "  }\n",
       "  th, td {\n",
       "    padding: 5px;\n",
       "  }\n",
       "  th {\n",
       "    text-align: left;\n",
       "  }\n",
       "</style><div class='table-result-container'><table class='table-result'><thead style='background-color: white'><tr><th>customer_id</th><th>customer_name</th><th>customer_city</th><th>hotel_id</th><th>hotel_name</th><th>hotel_city</th><th>booking_date</th><th>nights</th><th>price_per_night</th><th>total_amount</th></tr></thead><tbody><tr><td>C001</td><td>Neha</td><td>Bangalore</td><td>H03</td><td>Hotel Grand</td><td>Mumbai</td><td>2023-05-26</td><td>2</td><td>6329</td><td>12658</td></tr><tr><td>C002</td><td>Neha</td><td>Bangalore</td><td>H01</td><td>Hotel Grand</td><td>Delhi</td><td>2023-11-29</td><td>5</td><td>4568</td><td>22840</td></tr><tr><td>C003</td><td>Amit</td><td>Hyderabad</td><td>H03</td><td>Sunshine Inn</td><td>Chennai</td><td>2023-08-18</td><td>5</td><td>5809</td><td>29045</td></tr><tr><td>C004</td><td>Sunil</td><td>Pune</td><td>H01</td><td>Sunshine Inn</td><td>Chennai</td><td>2023-03-07</td><td>4</td><td>4086</td><td>16344</td></tr><tr><td>C005</td><td>Manoj</td><td>Mumbai</td><td>H03</td><td>Sunshine Inn</td><td>Pune</td><td>2023-08-12</td><td>1</td><td>2136</td><td>2136</td></tr><tr><td>C006</td><td>Ravi</td><td>Pune</td><td>H05</td><td>Sunshine Inn</td><td>Delhi</td><td>2023-11-02</td><td>1</td><td>6470</td><td>6470</td></tr><tr><td>C007</td><td>Kiran</td><td>Chennai</td><td>H02</td><td>City Palace</td><td>Delhi</td><td>2023-09-08</td><td>6</td><td>2676</td><td>16056</td></tr><tr><td>C008</td><td>Amit</td><td>Hyderabad</td><td>H01</td><td>City Palace</td><td>Bangalore</td><td>2023-11-08</td><td>2</td><td>7001</td><td>14002</td></tr><tr><td>C009</td><td>Anita</td><td>Pune</td><td>H05</td><td>Sunshine Inn</td><td>Mumbai</td><td>2023-11-12</td><td>5</td><td>7963</td><td>39815</td></tr><tr><td>C010</td><td>Sunil</td><td>Delhi</td><td>H05</td><td>Sunshine Inn</td><td>Mumbai</td><td>2023-04-07</td><td>6</td><td>5646</td><td>33876</td></tr><tr><td>C011</td><td>Kiran</td><td>Hyderabad</td><td>H05</td><td>Comfort Suites</td><td>Kolkata</td><td>2023-06-15</td><td>1</td><td>7275</td><td>7275</td></tr><tr><td>C012</td><td>Kiran</td><td>Chennai</td><td>H06</td><td>Sea View Resort</td><td>Chennai</td><td>2023-05-30</td><td>2</td><td>7657</td><td>15314</td></tr><tr><td>C013</td><td>Neha</td><td>Hyderabad</td><td>H04</td><td>Sea View Resort</td><td>Kolkata</td><td>2023-10-14</td><td>4</td><td>2388</td><td>9552</td></tr><tr><td>C014</td><td>Priya</td><td>Bangalore</td><td>H04</td><td>Sea View Resort</td><td>Chennai</td><td>2023-04-12</td><td>6</td><td>6307</td><td>37842</td></tr><tr><td>C015</td><td>Anita</td><td>Hyderabad</td><td>H04</td><td>Comfort Suites</td><td>Delhi</td><td>2023-08-18</td><td>5</td><td>6503</td><td>32515</td></tr><tr><td>C016</td><td>Anita</td><td>Mumbai</td><td>H06</td><td>Hotel Grand</td><td>Mumbai</td><td>2023-09-07</td><td>3</td><td>5099</td><td>15297</td></tr><tr><td>C017</td><td>Kiran</td><td>Mumbai</td><td>H03</td><td>City Palace</td><td>Delhi</td><td>2023-12-17</td><td>7</td><td>5223</td><td>36561</td></tr><tr><td>C018</td><td>Neha</td><td>Pune</td><td>H03</td><td>Royal Stay</td><td>Delhi</td><td>2023-09-23</td><td>2</td><td>6791</td><td>13582</td></tr><tr><td>C019</td><td>Sneha</td><td>Bangalore</td><td>H05</td><td>Royal Stay</td><td>Hyderabad</td><td>2023-12-02</td><td>4</td><td>2052</td><td>8208</td></tr><tr><td>C020</td><td>Sneha</td><td>Chennai</td><td>H02</td><td>Comfort Suites</td><td>Pune</td><td>2023-05-01</td><td>2</td><td>3131</td><td>6262</td></tr><tr><td>C021</td><td>Amit</td><td>Chennai</td><td>H04</td><td>Royal Stay</td><td>Kolkata</td><td>2023-06-29</td><td>1</td><td>7285</td><td>7285</td></tr><tr><td>C022</td><td>Amit</td><td>Bangalore</td><td>H02</td><td>Comfort Suites</td><td>Kolkata</td><td>2023-12-31</td><td>6</td><td>7735</td><td>46410</td></tr><tr><td>C023</td><td>Anita</td><td>Chennai</td><td>H06</td><td>Hotel Grand</td><td>Pune</td><td>2023-05-27</td><td>7</td><td>4764</td><td>33348</td></tr><tr><td>C024</td><td>Kiran</td><td>Hyderabad</td><td>H03</td><td>Hotel Grand</td><td>Delhi</td><td>2023-07-24</td><td>4</td><td>2230</td><td>8920</td></tr><tr><td>C025</td><td>Sneha</td><td>Bangalore</td><td>H01</td><td>Comfort Suites</td><td>Delhi</td><td>2023-10-27</td><td>6</td><td>7940</td><td>47640</td></tr><tr><td>C026</td><td>Manoj</td><td>Delhi</td><td>H03</td><td>Hotel Grand</td><td>Delhi</td><td>2023-07-09</td><td>2</td><td>2982</td><td>5964</td></tr><tr><td>C027</td><td>Priya</td><td>Delhi</td><td>H05</td><td>Sunshine Inn</td><td>Mumbai</td><td>2023-04-25</td><td>7</td><td>6133</td><td>42931</td></tr><tr><td>C028</td><td>Priya</td><td>Hyderabad</td><td>H05</td><td>Hotel Grand</td><td>Bangalore</td><td>2023-03-22</td><td>4</td><td>6068</td><td>24272</td></tr><tr><td>C029</td><td>Ravi</td><td>Mumbai</td><td>H03</td><td>City Palace</td><td>Mumbai</td><td>2023-07-21</td><td>7</td><td>4946</td><td>34622</td></tr><tr><td>C030</td><td>Manoj</td><td>Pune</td><td>H02</td><td>Comfort Suites</td><td>Kolkata</td><td>2023-03-20</td><td>7</td><td>4138</td><td>28966</td></tr><tr><td>C031</td><td>Priya</td><td>Kolkata</td><td>H06</td><td>City Palace</td><td>Chennai</td><td>2023-09-10</td><td>1</td><td>7428</td><td>7428</td></tr><tr><td>C032</td><td>Neha</td><td>Kolkata</td><td>H03</td><td>Royal Stay</td><td>Mumbai</td><td>2023-12-10</td><td>3</td><td>4984</td><td>14952</td></tr><tr><td>C033</td><td>Ravi</td><td>Chennai</td><td>H01</td><td>Royal Stay</td><td>Bangalore</td><td>2023-04-11</td><td>3</td><td>5625</td><td>16875</td></tr><tr><td>C034</td><td>Priya</td><td>Hyderabad</td><td>H01</td><td>City Palace</td><td>Pune</td><td>2023-06-16</td><td>6</td><td>4840</td><td>29040</td></tr><tr><td>C035</td><td>Manoj</td><td>Kolkata</td><td>H04</td><td>City Palace</td><td>Delhi</td><td>2023-01-25</td><td>5</td><td>5336</td><td>26680</td></tr><tr><td>C036</td><td>Priya</td><td>Mumbai</td><td>H02</td><td>Hotel Grand</td><td>Bangalore</td><td>2023-11-05</td><td>2</td><td>4536</td><td>9072</td></tr><tr><td>C037</td><td>Amit</td><td>Pune</td><td>H03</td><td>Comfort Suites</td><td>Chennai</td><td>2023-10-13</td><td>3</td><td>6070</td><td>18210</td></tr><tr><td>C038</td><td>Manoj</td><td>Hyderabad</td><td>H04</td><td>Sea View Resort</td><td>Bangalore</td><td>2023-11-28</td><td>5</td><td>3404</td><td>17020</td></tr><tr><td>C039</td><td>Neha</td><td>Hyderabad</td><td>H06</td><td>City Palace</td><td>Delhi</td><td>2023-10-08</td><td>5</td><td>6059</td><td>30295</td></tr><tr><td>C040</td><td>Amit</td><td>Delhi</td><td>H02</td><td>City Palace</td><td>Mumbai</td><td>2023-10-16</td><td>7</td><td>4546</td><td>31822</td></tr><tr><td>C041</td><td>Kiran</td><td>Kolkata</td><td>H06</td><td>Royal Stay</td><td>Hyderabad</td><td>2023-06-26</td><td>1</td><td>5105</td><td>5105</td></tr><tr><td>C042</td><td>Neha</td><td>Bangalore</td><td>H05</td><td>Sea View Resort</td><td>Mumbai</td><td>2023-12-28</td><td>2</td><td>4702</td><td>9404</td></tr><tr><td>C043</td><td>Sneha</td><td>Pune</td><td>H06</td><td>City Palace</td><td>Delhi</td><td>2023-11-10</td><td>1</td><td>3645</td><td>3645</td></tr><tr><td>C044</td><td>Rohit</td><td>Delhi</td><td>H06</td><td>Sunshine Inn</td><td>Hyderabad</td><td>2023-10-25</td><td>7</td><td>6025</td><td>42175</td></tr><tr><td>C045</td><td>Amit</td><td>Bangalore</td><td>H03</td><td>Comfort Suites</td><td>Kolkata</td><td>2023-10-01</td><td>4</td><td>2451</td><td>9804</td></tr><tr><td>C046</td><td>Ravi</td><td>Delhi</td><td>H01</td><td>Hotel Grand</td><td>Delhi</td><td>2023-03-12</td><td>1</td><td>2978</td><td>2978</td></tr><tr><td>C047</td><td>Ravi</td><td>Delhi</td><td>H01</td><td>Sunshine Inn</td><td>Delhi</td><td>2023-02-14</td><td>7</td><td>4573</td><td>32011</td></tr><tr><td>C048</td><td>Sneha</td><td>Kolkata</td><td>H05</td><td>Royal Stay</td><td>Kolkata</td><td>2023-01-14</td><td>5</td><td>6956</td><td>34780</td></tr><tr><td>C049</td><td>Ravi</td><td>Chennai</td><td>H05</td><td>Hotel Grand</td><td>Kolkata</td><td>2023-10-21</td><td>1</td><td>7794</td><td>7794</td></tr><tr><td>C050</td><td>Manoj</td><td>Delhi</td><td>H04</td><td>City Palace</td><td>Mumbai</td><td>2023-04-22</td><td>4</td><td>4077</td><td>16308</td></tr><tr><td>C051</td><td>Amit</td><td>Bangalore</td><td>H02</td><td>Hotel Grand</td><td>Mumbai</td><td>2023-08-10</td><td>6</td><td>7317</td><td>43902</td></tr><tr><td>C052</td><td>Anita</td><td>Pune</td><td>H01</td><td>Hotel Grand</td><td>Kolkata</td><td>2023-08-22</td><td>3</td><td>5207</td><td>15621</td></tr><tr><td>C053</td><td>Sneha</td><td>Kolkata</td><td>H06</td><td>Royal Stay</td><td>Delhi</td><td>2023-09-16</td><td>6</td><td>3762</td><td>22572</td></tr><tr><td>C054</td><td>Rohit</td><td>Bangalore</td><td>H06</td><td>Royal Stay</td><td>Mumbai</td><td>2023-10-24</td><td>1</td><td>2694</td><td>2694</td></tr><tr><td>C055</td><td>Manoj</td><td>Chennai</td><td>H06</td><td>Royal Stay</td><td>Mumbai</td><td>2023-06-24</td><td>6</td><td>5695</td><td>34170</td></tr><tr><td>C056</td><td>Manoj</td><td>Chennai</td><td>H05</td><td>City Palace</td><td>Chennai</td><td>2023-09-10</td><td>6</td><td>3183</td><td>19098</td></tr><tr><td>C057</td><td>Ravi</td><td>Mumbai</td><td>H06</td><td>Comfort Suites</td><td>Chennai</td><td>2023-05-17</td><td>1</td><td>6093</td><td>6093</td></tr><tr><td>C058</td><td>Amit</td><td>Delhi</td><td>H03</td><td>Sea View Resort</td><td>Hyderabad</td><td>2023-11-03</td><td>2</td><td>7220</td><td>14440</td></tr><tr><td>C059</td><td>Manoj</td><td>Chennai</td><td>H02</td><td>Sea View Resort</td><td>Bangalore</td><td>2023-11-02</td><td>3</td><td>7951</td><td>23853</td></tr><tr><td>C060</td><td>Priya</td><td>Hyderabad</td><td>H06</td><td>Hotel Grand</td><td>Kolkata</td><td>2023-03-13</td><td>2</td><td>7414</td><td>14828</td></tr><tr><td>C061</td><td>Priya</td><td>Kolkata</td><td>H01</td><td>Hotel Grand</td><td>Pune</td><td>2023-01-01</td><td>5</td><td>6290</td><td>31450</td></tr><tr><td>C062</td><td>Manoj</td><td>Chennai</td><td>H03</td><td>Hotel Grand</td><td>Mumbai</td><td>2023-03-28</td><td>5</td><td>6919</td><td>34595</td></tr><tr><td>C063</td><td>Rohit</td><td>Pune</td><td>H04</td><td>Comfort Suites</td><td>Kolkata</td><td>2023-11-07</td><td>2</td><td>4049</td><td>8098</td></tr><tr><td>C064</td><td>Kiran</td><td>Pune</td><td>H04</td><td>Sea View Resort</td><td>Bangalore</td><td>2023-04-26</td><td>7</td><td>7886</td><td>55202</td></tr><tr><td>C065</td><td>Ravi</td><td>Chennai</td><td>H02</td><td>Hotel Grand</td><td>Pune</td><td>2023-10-30</td><td>6</td><td>7964</td><td>47784</td></tr><tr><td>C066</td><td>Sunil</td><td>Chennai</td><td>H01</td><td>Sunshine Inn</td><td>Pune</td><td>2023-03-11</td><td>3</td><td>3537</td><td>10611</td></tr><tr><td>C067</td><td>Amit</td><td>Delhi</td><td>H02</td><td>Comfort Suites</td><td>Kolkata</td><td>2023-05-01</td><td>1</td><td>2713</td><td>2713</td></tr><tr><td>C068</td><td>Anita</td><td>Bangalore</td><td>H03</td><td>Sunshine Inn</td><td>Chennai</td><td>2023-12-16</td><td>1</td><td>5238</td><td>5238</td></tr><tr><td>C069</td><td>Kiran</td><td>Bangalore</td><td>H03</td><td>Sunshine Inn</td><td>Delhi</td><td>2023-03-17</td><td>5</td><td>3136</td><td>15680</td></tr><tr><td>C070</td><td>Sunil</td><td>Mumbai</td><td>H06</td><td>Sunshine Inn</td><td>Pune</td><td>2023-05-05</td><td>7</td><td>2195</td><td>15365</td></tr></tbody></table></div>"
      ]
     },
     "metadata": {
      "application/vnd.databricks.v1+output": {
       "addedWidgets": {},
       "aggData": [],
       "aggError": "",
       "aggOverflow": false,
       "aggSchema": [],
       "aggSeriesLimitReached": false,
       "aggType": "",
       "arguments": {},
       "columnCustomDisplayInfos": {},
       "data": [
        [
         "C001",
         "Neha",
         "Bangalore",
         "H03",
         "Hotel Grand",
         "Mumbai",
         "2023-05-26",
         2,
         6329,
         12658
        ],
        [
         "C002",
         "Neha",
         "Bangalore",
         "H01",
         "Hotel Grand",
         "Delhi",
         "2023-11-29",
         5,
         4568,
         22840
        ],
        [
         "C003",
         "Amit",
         "Hyderabad",
         "H03",
         "Sunshine Inn",
         "Chennai",
         "2023-08-18",
         5,
         5809,
         29045
        ],
        [
         "C004",
         "Sunil",
         "Pune",
         "H01",
         "Sunshine Inn",
         "Chennai",
         "2023-03-07",
         4,
         4086,
         16344
        ],
        [
         "C005",
         "Manoj",
         "Mumbai",
         "H03",
         "Sunshine Inn",
         "Pune",
         "2023-08-12",
         1,
         2136,
         2136
        ],
        [
         "C006",
         "Ravi",
         "Pune",
         "H05",
         "Sunshine Inn",
         "Delhi",
         "2023-11-02",
         1,
         6470,
         6470
        ],
        [
         "C007",
         "Kiran",
         "Chennai",
         "H02",
         "City Palace",
         "Delhi",
         "2023-09-08",
         6,
         2676,
         16056
        ],
        [
         "C008",
         "Amit",
         "Hyderabad",
         "H01",
         "City Palace",
         "Bangalore",
         "2023-11-08",
         2,
         7001,
         14002
        ],
        [
         "C009",
         "Anita",
         "Pune",
         "H05",
         "Sunshine Inn",
         "Mumbai",
         "2023-11-12",
         5,
         7963,
         39815
        ],
        [
         "C010",
         "Sunil",
         "Delhi",
         "H05",
         "Sunshine Inn",
         "Mumbai",
         "2023-04-07",
         6,
         5646,
         33876
        ],
        [
         "C011",
         "Kiran",
         "Hyderabad",
         "H05",
         "Comfort Suites",
         "Kolkata",
         "2023-06-15",
         1,
         7275,
         7275
        ],
        [
         "C012",
         "Kiran",
         "Chennai",
         "H06",
         "Sea View Resort",
         "Chennai",
         "2023-05-30",
         2,
         7657,
         15314
        ],
        [
         "C013",
         "Neha",
         "Hyderabad",
         "H04",
         "Sea View Resort",
         "Kolkata",
         "2023-10-14",
         4,
         2388,
         9552
        ],
        [
         "C014",
         "Priya",
         "Bangalore",
         "H04",
         "Sea View Resort",
         "Chennai",
         "2023-04-12",
         6,
         6307,
         37842
        ],
        [
         "C015",
         "Anita",
         "Hyderabad",
         "H04",
         "Comfort Suites",
         "Delhi",
         "2023-08-18",
         5,
         6503,
         32515
        ],
        [
         "C016",
         "Anita",
         "Mumbai",
         "H06",
         "Hotel Grand",
         "Mumbai",
         "2023-09-07",
         3,
         5099,
         15297
        ],
        [
         "C017",
         "Kiran",
         "Mumbai",
         "H03",
         "City Palace",
         "Delhi",
         "2023-12-17",
         7,
         5223,
         36561
        ],
        [
         "C018",
         "Neha",
         "Pune",
         "H03",
         "Royal Stay",
         "Delhi",
         "2023-09-23",
         2,
         6791,
         13582
        ],
        [
         "C019",
         "Sneha",
         "Bangalore",
         "H05",
         "Royal Stay",
         "Hyderabad",
         "2023-12-02",
         4,
         2052,
         8208
        ],
        [
         "C020",
         "Sneha",
         "Chennai",
         "H02",
         "Comfort Suites",
         "Pune",
         "2023-05-01",
         2,
         3131,
         6262
        ],
        [
         "C021",
         "Amit",
         "Chennai",
         "H04",
         "Royal Stay",
         "Kolkata",
         "2023-06-29",
         1,
         7285,
         7285
        ],
        [
         "C022",
         "Amit",
         "Bangalore",
         "H02",
         "Comfort Suites",
         "Kolkata",
         "2023-12-31",
         6,
         7735,
         46410
        ],
        [
         "C023",
         "Anita",
         "Chennai",
         "H06",
         "Hotel Grand",
         "Pune",
         "2023-05-27",
         7,
         4764,
         33348
        ],
        [
         "C024",
         "Kiran",
         "Hyderabad",
         "H03",
         "Hotel Grand",
         "Delhi",
         "2023-07-24",
         4,
         2230,
         8920
        ],
        [
         "C025",
         "Sneha",
         "Bangalore",
         "H01",
         "Comfort Suites",
         "Delhi",
         "2023-10-27",
         6,
         7940,
         47640
        ],
        [
         "C026",
         "Manoj",
         "Delhi",
         "H03",
         "Hotel Grand",
         "Delhi",
         "2023-07-09",
         2,
         2982,
         5964
        ],
        [
         "C027",
         "Priya",
         "Delhi",
         "H05",
         "Sunshine Inn",
         "Mumbai",
         "2023-04-25",
         7,
         6133,
         42931
        ],
        [
         "C028",
         "Priya",
         "Hyderabad",
         "H05",
         "Hotel Grand",
         "Bangalore",
         "2023-03-22",
         4,
         6068,
         24272
        ],
        [
         "C029",
         "Ravi",
         "Mumbai",
         "H03",
         "City Palace",
         "Mumbai",
         "2023-07-21",
         7,
         4946,
         34622
        ],
        [
         "C030",
         "Manoj",
         "Pune",
         "H02",
         "Comfort Suites",
         "Kolkata",
         "2023-03-20",
         7,
         4138,
         28966
        ],
        [
         "C031",
         "Priya",
         "Kolkata",
         "H06",
         "City Palace",
         "Chennai",
         "2023-09-10",
         1,
         7428,
         7428
        ],
        [
         "C032",
         "Neha",
         "Kolkata",
         "H03",
         "Royal Stay",
         "Mumbai",
         "2023-12-10",
         3,
         4984,
         14952
        ],
        [
         "C033",
         "Ravi",
         "Chennai",
         "H01",
         "Royal Stay",
         "Bangalore",
         "2023-04-11",
         3,
         5625,
         16875
        ],
        [
         "C034",
         "Priya",
         "Hyderabad",
         "H01",
         "City Palace",
         "Pune",
         "2023-06-16",
         6,
         4840,
         29040
        ],
        [
         "C035",
         "Manoj",
         "Kolkata",
         "H04",
         "City Palace",
         "Delhi",
         "2023-01-25",
         5,
         5336,
         26680
        ],
        [
         "C036",
         "Priya",
         "Mumbai",
         "H02",
         "Hotel Grand",
         "Bangalore",
         "2023-11-05",
         2,
         4536,
         9072
        ],
        [
         "C037",
         "Amit",
         "Pune",
         "H03",
         "Comfort Suites",
         "Chennai",
         "2023-10-13",
         3,
         6070,
         18210
        ],
        [
         "C038",
         "Manoj",
         "Hyderabad",
         "H04",
         "Sea View Resort",
         "Bangalore",
         "2023-11-28",
         5,
         3404,
         17020
        ],
        [
         "C039",
         "Neha",
         "Hyderabad",
         "H06",
         "City Palace",
         "Delhi",
         "2023-10-08",
         5,
         6059,
         30295
        ],
        [
         "C040",
         "Amit",
         "Delhi",
         "H02",
         "City Palace",
         "Mumbai",
         "2023-10-16",
         7,
         4546,
         31822
        ],
        [
         "C041",
         "Kiran",
         "Kolkata",
         "H06",
         "Royal Stay",
         "Hyderabad",
         "2023-06-26",
         1,
         5105,
         5105
        ],
        [
         "C042",
         "Neha",
         "Bangalore",
         "H05",
         "Sea View Resort",
         "Mumbai",
         "2023-12-28",
         2,
         4702,
         9404
        ],
        [
         "C043",
         "Sneha",
         "Pune",
         "H06",
         "City Palace",
         "Delhi",
         "2023-11-10",
         1,
         3645,
         3645
        ],
        [
         "C044",
         "Rohit",
         "Delhi",
         "H06",
         "Sunshine Inn",
         "Hyderabad",
         "2023-10-25",
         7,
         6025,
         42175
        ],
        [
         "C045",
         "Amit",
         "Bangalore",
         "H03",
         "Comfort Suites",
         "Kolkata",
         "2023-10-01",
         4,
         2451,
         9804
        ],
        [
         "C046",
         "Ravi",
         "Delhi",
         "H01",
         "Hotel Grand",
         "Delhi",
         "2023-03-12",
         1,
         2978,
         2978
        ],
        [
         "C047",
         "Ravi",
         "Delhi",
         "H01",
         "Sunshine Inn",
         "Delhi",
         "2023-02-14",
         7,
         4573,
         32011
        ],
        [
         "C048",
         "Sneha",
         "Kolkata",
         "H05",
         "Royal Stay",
         "Kolkata",
         "2023-01-14",
         5,
         6956,
         34780
        ],
        [
         "C049",
         "Ravi",
         "Chennai",
         "H05",
         "Hotel Grand",
         "Kolkata",
         "2023-10-21",
         1,
         7794,
         7794
        ],
        [
         "C050",
         "Manoj",
         "Delhi",
         "H04",
         "City Palace",
         "Mumbai",
         "2023-04-22",
         4,
         4077,
         16308
        ],
        [
         "C051",
         "Amit",
         "Bangalore",
         "H02",
         "Hotel Grand",
         "Mumbai",
         "2023-08-10",
         6,
         7317,
         43902
        ],
        [
         "C052",
         "Anita",
         "Pune",
         "H01",
         "Hotel Grand",
         "Kolkata",
         "2023-08-22",
         3,
         5207,
         15621
        ],
        [
         "C053",
         "Sneha",
         "Kolkata",
         "H06",
         "Royal Stay",
         "Delhi",
         "2023-09-16",
         6,
         3762,
         22572
        ],
        [
         "C054",
         "Rohit",
         "Bangalore",
         "H06",
         "Royal Stay",
         "Mumbai",
         "2023-10-24",
         1,
         2694,
         2694
        ],
        [
         "C055",
         "Manoj",
         "Chennai",
         "H06",
         "Royal Stay",
         "Mumbai",
         "2023-06-24",
         6,
         5695,
         34170
        ],
        [
         "C056",
         "Manoj",
         "Chennai",
         "H05",
         "City Palace",
         "Chennai",
         "2023-09-10",
         6,
         3183,
         19098
        ],
        [
         "C057",
         "Ravi",
         "Mumbai",
         "H06",
         "Comfort Suites",
         "Chennai",
         "2023-05-17",
         1,
         6093,
         6093
        ],
        [
         "C058",
         "Amit",
         "Delhi",
         "H03",
         "Sea View Resort",
         "Hyderabad",
         "2023-11-03",
         2,
         7220,
         14440
        ],
        [
         "C059",
         "Manoj",
         "Chennai",
         "H02",
         "Sea View Resort",
         "Bangalore",
         "2023-11-02",
         3,
         7951,
         23853
        ],
        [
         "C060",
         "Priya",
         "Hyderabad",
         "H06",
         "Hotel Grand",
         "Kolkata",
         "2023-03-13",
         2,
         7414,
         14828
        ],
        [
         "C061",
         "Priya",
         "Kolkata",
         "H01",
         "Hotel Grand",
         "Pune",
         "2023-01-01",
         5,
         6290,
         31450
        ],
        [
         "C062",
         "Manoj",
         "Chennai",
         "H03",
         "Hotel Grand",
         "Mumbai",
         "2023-03-28",
         5,
         6919,
         34595
        ],
        [
         "C063",
         "Rohit",
         "Pune",
         "H04",
         "Comfort Suites",
         "Kolkata",
         "2023-11-07",
         2,
         4049,
         8098
        ],
        [
         "C064",
         "Kiran",
         "Pune",
         "H04",
         "Sea View Resort",
         "Bangalore",
         "2023-04-26",
         7,
         7886,
         55202
        ],
        [
         "C065",
         "Ravi",
         "Chennai",
         "H02",
         "Hotel Grand",
         "Pune",
         "2023-10-30",
         6,
         7964,
         47784
        ],
        [
         "C066",
         "Sunil",
         "Chennai",
         "H01",
         "Sunshine Inn",
         "Pune",
         "2023-03-11",
         3,
         3537,
         10611
        ],
        [
         "C067",
         "Amit",
         "Delhi",
         "H02",
         "Comfort Suites",
         "Kolkata",
         "2023-05-01",
         1,
         2713,
         2713
        ],
        [
         "C068",
         "Anita",
         "Bangalore",
         "H03",
         "Sunshine Inn",
         "Chennai",
         "2023-12-16",
         1,
         5238,
         5238
        ],
        [
         "C069",
         "Kiran",
         "Bangalore",
         "H03",
         "Sunshine Inn",
         "Delhi",
         "2023-03-17",
         5,
         3136,
         15680
        ],
        [
         "C070",
         "Sunil",
         "Mumbai",
         "H06",
         "Sunshine Inn",
         "Pune",
         "2023-05-05",
         7,
         2195,
         15365
        ]
       ],
       "datasetInfos": [],
       "dbfsResultPath": null,
       "isJsonSchema": true,
       "metadata": {},
       "overflow": false,
       "plotOptions": {
        "customPlotOptions": {},
        "displayType": "table",
        "pivotAggregation": null,
        "pivotColumns": null,
        "xColumns": null,
        "yColumns": null
       },
       "removedWidgets": [],
       "schema": [
        {
         "metadata": "{}",
         "name": "customer_id",
         "type": "\"string\""
        },
        {
         "metadata": "{}",
         "name": "customer_name",
         "type": "\"string\""
        },
        {
         "metadata": "{}",
         "name": "customer_city",
         "type": "\"string\""
        },
        {
         "metadata": "{}",
         "name": "hotel_id",
         "type": "\"string\""
        },
        {
         "metadata": "{}",
         "name": "hotel_name",
         "type": "\"string\""
        },
        {
         "metadata": "{}",
         "name": "hotel_city",
         "type": "\"string\""
        },
        {
         "metadata": "{\"__detected_date_formats\": \"yyyy-M-d\"}",
         "name": "booking_date",
         "type": "\"date\""
        },
        {
         "metadata": "{}",
         "name": "nights",
         "type": "\"long\""
        },
        {
         "metadata": "{}",
         "name": "price_per_night",
         "type": "\"long\""
        },
        {
         "metadata": "{}",
         "name": "total_amount",
         "type": "\"long\""
        }
       ],
       "type": "table"
      }
     },
     "output_type": "display_data"
    }
   ],
   "source": [
    "df = spark.table(\"dltpriya.default.bookings_dataset\")\n",
    "display(df)"
   ]
  },
  {
   "cell_type": "code",
   "execution_count": 0,
   "metadata": {
    "application/vnd.databricks.v1+cell": {
     "cellMetadata": {
      "byteLimit": 2048000,
      "rowLimit": 10000
     },
     "inputWidgets": {},
     "nuid": "21d689b9-a5f2-49ff-8e97-4c05689c9a44",
     "showTitle": false,
     "tableResultSettingsMap": {},
     "title": ""
    }
   },
   "outputs": [
    {
     "output_type": "stream",
     "name": "stdout",
     "output_type": "stream",
     "text": [
      "+---------------+-------------+\n|     hotel_name|total_revenue|\n+---------------+-------------+\n|    Hotel Grand|       331323|\n|   Sunshine Inn|       291697|\n|    City Palace|       265557|\n| Comfort Suites|       213986|\n|Sea View Resort|       182627|\n|     Royal Stay|       160223|\n+---------------+-------------+\n\n"
     ]
    }
   ],
   "source": [
    "from pyspark.sql.functions import sum as _sum, col\n",
    "\n",
    "# Total Revenue per Hotel\n",
    "revenue_per_hotel = df.groupBy(\"hotel_name\") \\\n",
    "    .agg(_sum(\"total_amount\").alias(\"total_revenue\")) \\\n",
    "    .orderBy(col(\"total_revenue\").desc())\n",
    "\n",
    "revenue_per_hotel.show()\n",
    "\n",
    "\n"
   ]
  },
  {
   "cell_type": "code",
   "execution_count": 0,
   "metadata": {
    "application/vnd.databricks.v1+cell": {
     "cellMetadata": {
      "byteLimit": 2048000,
      "rowLimit": 10000
     },
     "inputWidgets": {},
     "nuid": "b7cd6c6d-5331-4592-ac75-f7303fd4de1c",
     "showTitle": false,
     "tableResultSettingsMap": {},
     "title": ""
    }
   },
   "outputs": [
    {
     "output_type": "display_data",
     "data": {
      "text/html": [
       "<style scoped>\n",
       "  .table-result-container {\n",
       "    max-height: 300px;\n",
       "    overflow: auto;\n",
       "  }\n",
       "  table, th, td {\n",
       "    border: 1px solid black;\n",
       "    border-collapse: collapse;\n",
       "  }\n",
       "  th, td {\n",
       "    padding: 5px;\n",
       "  }\n",
       "  th {\n",
       "    text-align: left;\n",
       "  }\n",
       "</style><div class='table-result-container'><table class='table-result'><thead style='background-color: white'><tr><th>hotel_city</th><th>avg_stay_duration</th></tr></thead><tbody><tr><td>Pune</td><td>4.63</td></tr><tr><td>Mumbai</td><td>4.57</td></tr><tr><td>Delhi</td><td>4.25</td></tr><tr><td>Bangalore</td><td>3.71</td></tr><tr><td>Hyderabad</td><td>3.5</td></tr><tr><td>Chennai</td><td>3.22</td></tr><tr><td>Kolkata</td><td>3.08</td></tr></tbody></table></div>"
      ]
     },
     "metadata": {
      "application/vnd.databricks.v1+output": {
       "addedWidgets": {},
       "aggData": [],
       "aggError": "",
       "aggOverflow": false,
       "aggSchema": [],
       "aggSeriesLimitReached": false,
       "aggType": "",
       "arguments": {},
       "columnCustomDisplayInfos": {},
       "data": [
        [
         "Pune",
         4.63
        ],
        [
         "Mumbai",
         4.57
        ],
        [
         "Delhi",
         4.25
        ],
        [
         "Bangalore",
         3.71
        ],
        [
         "Hyderabad",
         3.5
        ],
        [
         "Chennai",
         3.22
        ],
        [
         "Kolkata",
         3.08
        ]
       ],
       "datasetInfos": [],
       "dbfsResultPath": null,
       "isJsonSchema": true,
       "metadata": {},
       "overflow": false,
       "plotOptions": {
        "customPlotOptions": {},
        "displayType": "table",
        "pivotAggregation": null,
        "pivotColumns": null,
        "xColumns": null,
        "yColumns": null
       },
       "removedWidgets": [],
       "schema": [
        {
         "metadata": "{}",
         "name": "hotel_city",
         "type": "\"string\""
        },
        {
         "metadata": "{}",
         "name": "avg_stay_duration",
         "type": "\"double\""
        }
       ],
       "type": "table"
      }
     },
     "output_type": "display_data"
    },
    {
     "output_type": "display_data",
     "data": {
      "text/plain": [
       "Databricks visualization. Run in Databricks to view."
      ]
     },
     "metadata": {
      "application/vnd.databricks.v1.subcommand+json": {
       "baseErrorDetails": null,
       "bindings": {},
       "collapsed": false,
       "command": "%python\n__backend_agg_display_orig = display\n__backend_agg_dfs = []\ndef __backend_agg_display_new(df):\n    __backend_agg_df_modules = [\"pandas.core.frame\", \"databricks.koalas.frame\", \"pyspark.sql.dataframe\", \"pyspark.pandas.frame\", \"pyspark.sql.connect.dataframe\"]\n    if (type(df).__module__ in __backend_agg_df_modules and type(df).__name__ == 'DataFrame') or isinstance(df, list):\n        __backend_agg_dfs.append(df)\n\ndisplay = __backend_agg_display_new\n\ndef __backend_agg_user_code_fn():\n    import base64\n    exec(base64.standard_b64decode(\"ZnJvbSBweXNwYXJrLnNxbC5mdW5jdGlvbnMgaW1wb3J0IGF2Zywgcm91bmQKCiMgQXZlcmFnZSBzdGF5IGR1cmF0aW9uIGJ5IGNpdHkKYXZnX3N0YXkgPSBkZi5ncm91cEJ5KCJob3RlbF9jaXR5IikgXAogICAgLmFnZyhyb3VuZChhdmcoIm5pZ2h0cyIpLCAyKS5hbGlhcygiYXZnX3N0YXlfZHVyYXRpb24iKSkgXAogICAgLm9yZGVyQnkoImF2Z19zdGF5X2R1cmF0aW9uIiwgYXNjZW5kaW5nPUZhbHNlKQoKZGlzcGxheShhdmdfc3RheSkK\").decode())\n\ntry:\n    # run user code\n    __backend_agg_user_code_fn()\n\n    #reset display function\n    display = __backend_agg_display_orig\n\n    if len(__backend_agg_dfs) > 0:\n        # create a temp view\n        if type(__backend_agg_dfs[0]).__module__ == \"databricks.koalas.frame\":\n            # koalas dataframe\n            __backend_agg_dfs[0].to_spark().createOrReplaceTempView(\"DatabricksView4ff5fae\")\n        elif type(__backend_agg_dfs[0]).__module__ == \"pandas.core.frame\" or isinstance(__backend_agg_dfs[0], list):\n            # pandas dataframe\n            spark.createDataFrame(__backend_agg_dfs[0]).createOrReplaceTempView(\"DatabricksView4ff5fae\")\n        else:\n            __backend_agg_dfs[0].createOrReplaceTempView(\"DatabricksView4ff5fae\")\n        #run backend agg\n        display(spark.sql(\"\"\"WITH q AS (select * from DatabricksView4ff5fae) SELECT `hotel_city`,SUM(`avg_stay_duration`) `column_c59b1e07258` FROM q GROUP BY `hotel_city`\"\"\"))\n    else:\n        displayHTML(\"dataframe no longer exists. If you're using dataframe.display(), use display(dataframe) instead.\")\n\n\nfinally:\n    spark.sql(\"drop view if exists DatabricksView4ff5fae\")\n    display = __backend_agg_display_orig\n    del __backend_agg_display_new\n    del __backend_agg_display_orig\n    del __backend_agg_dfs\n    del __backend_agg_user_code_fn\n\n",
       "commandTitle": "Visualization 1",
       "commandType": "auto",
       "commandVersion": 0,
       "commentThread": [],
       "commentsVisible": false,
       "contentSha256Hex": null,
       "customPlotOptions": {
        "redashChart": [
         {
          "key": "type",
          "value": "CHART"
         },
         {
          "key": "options",
          "value": {
           "alignYAxesAtZero": true,
           "coefficient": 1,
           "columnConfigurationMap": {
            "x": {
             "column": "hotel_city",
             "id": "column_c59b1e07257"
            },
            "y": [
             {
              "column": "avg_stay_duration",
              "id": "column_c59b1e07258",
              "transform": "SUM"
             }
            ]
           },
           "dateTimeFormat": "DD/MM/YYYY HH:mm",
           "direction": {
            "type": "counterclockwise"
           },
           "error_y": {
            "type": "data",
            "visible": true
           },
           "globalSeriesType": "column",
           "legend": {
            "traceorder": "normal"
           },
           "missingValuesAsZero": true,
           "numberFormat": "0,0.[00000]",
           "percentFormat": "0[.]00%",
           "series": {
            "error_y": {
             "type": "data",
             "visible": true
            },
            "stacking": null
           },
           "seriesOptions": {
            "column_c59b1e07258": {
             "name": "avg_stay_duration",
             "yAxis": 0
            }
           },
           "showDataLabels": false,
           "sizemode": "diameter",
           "sortX": true,
           "sortY": true,
           "swappedAxes": true,
           "textFormat": "",
           "useAggregationsUi": true,
           "valuesOptions": {},
           "version": 2,
           "xAxis": {
            "labels": {
             "enabled": true
            },
            "type": "-"
           },
           "yAxis": [
            {
             "type": "-"
            },
            {
             "opposite": true,
             "type": "-"
            }
           ]
          }
         }
        ]
       },
       "datasetPreviewNameToCmdIdMap": {},
       "diffDeletes": [],
       "diffInserts": [],
       "displayType": "redashChart",
       "error": null,
       "errorDetails": null,
       "errorSummary": null,
       "errorTraceType": null,
       "finishTime": 0,
       "globalVars": {},
       "guid": "",
       "height": "auto",
       "hideCommandCode": false,
       "hideCommandResult": false,
       "iPythonMetadata": null,
       "inputWidgets": {},
       "isLockedInExamMode": false,
       "latestUser": "a user",
       "latestUserId": null,
       "listResultMetadata": null,
       "metadata": {},
       "nuid": "7b824644-b89e-4fba-847c-94e559e25815",
       "origId": 0,
       "parentHierarchy": [],
       "pivotAggregation": null,
       "pivotColumns": null,
       "position": 13.0,
       "resultDbfsErrorMessage": null,
       "resultDbfsStatus": "INLINED_IN_TREE",
       "results": null,
       "showCommandTitle": false,
       "startTime": 0,
       "state": "input",
       "streamStates": {},
       "subcommandOptions": {
        "queryPlan": {
         "groups": [
          {
           "column": "hotel_city",
           "type": "column"
          }
         ],
         "selects": [
          {
           "column": "hotel_city",
           "type": "column"
          },
          {
           "alias": "column_c59b1e07258",
           "args": [
            {
             "column": "avg_stay_duration",
             "type": "column"
            }
           ],
           "function": "SUM",
           "type": "function"
          }
         ]
        }
       },
       "submitTime": 0,
       "subtype": "tableResultSubCmd.visualization",
       "tableResultIndex": 0,
       "tableResultSettingsMap": {},
       "useConsistentColors": false,
       "version": "CommandV1",
       "width": "auto",
       "workflows": [],
       "xColumns": null,
       "yColumns": null
      }
     },
     "output_type": "display_data"
    }
   ],
   "source": [
    "from pyspark.sql.functions import avg, round\n",
    "\n",
    "# Average stay duration by city\n",
    "avg_stay = df.groupBy(\"hotel_city\") \\\n",
    "    .agg(round(avg(\"nights\"), 2).alias(\"avg_stay_duration\")) \\\n",
    "    .orderBy(\"avg_stay_duration\", ascending=False)\n",
    "\n",
    "display(avg_stay)\n"
   ]
  },
  {
   "cell_type": "code",
   "execution_count": 0,
   "metadata": {
    "application/vnd.databricks.v1+cell": {
     "cellMetadata": {},
     "inputWidgets": {},
     "nuid": "31c7e72e-3113-47fe-82d0-a26bd2a4e6ab",
     "showTitle": false,
     "tableResultSettingsMap": {},
     "title": ""
    }
   },
   "outputs": [],
   "source": []
  }
 ],
 "metadata": {
  "application/vnd.databricks.v1+notebook": {
   "computePreferences": null,
   "dashboards": [
    {
     "elements": [
      {
       "dashboardResultIndex": null,
       "elementNUID": "c8d5a66d-b7e7-4b22-aadd-5d0d98eaf6ef",
       "elementType": "command",
       "guid": "0b8c4a2c-5041-4864-b65f-f1a6f8bdeb30",
       "options": null,
       "position": {
        "height": 6,
        "width": 12,
        "x": 0,
        "y": 0,
        "z": null
       },
       "resultIndex": null
      },
      {
       "dashboardResultIndex": null,
       "elementNUID": "6c872ebb-1eeb-41af-a335-7b1c2fd18931",
       "elementType": "command",
       "guid": "122e18a2-cc31-4818-845a-6a3bc2079103",
       "options": null,
       "position": {
        "height": 6,
        "width": 12,
        "x": 12,
        "y": 6,
        "z": null
       },
       "resultIndex": null
      },
      {
       "dashboardResultIndex": null,
       "elementNUID": "1ebbeb7c-69d9-4d55-9772-34228d4c36da",
       "elementType": "command",
       "guid": "256133f9-7a5c-4a2d-a969-87fffeb3bf2c",
       "options": null,
       "position": {
        "height": 6,
        "width": 12,
        "x": 0,
        "y": 6,
        "z": null
       },
       "resultIndex": null
      },
      {
       "dashboardResultIndex": null,
       "elementNUID": "597cde17-683e-4bb4-a838-913f185acc49",
       "elementType": "command",
       "guid": "2aa73f84-dfe5-4822-8a56-a44fd30b3358",
       "options": null,
       "position": {
        "height": 6,
        "width": 12,
        "x": 11,
        "y": 12,
        "z": null
       },
       "resultIndex": null
      },
      {
       "dashboardResultIndex": null,
       "elementNUID": "fdcdd552-d7a0-467f-9fba-d62cb99c32c6",
       "elementType": "command",
       "guid": "90881a00-3010-4cea-8e79-6180a5607eaf",
       "options": null,
       "position": {
        "height": 6,
        "width": 12,
        "x": 12,
        "y": 0,
        "z": null
       },
       "resultIndex": null
      },
      {
       "dashboardResultIndex": null,
       "elementNUID": "7b824644-b89e-4fba-847c-94e559e25815",
       "elementType": "command",
       "guid": "919f219b-64a8-4c0c-89ae-1b1f2ed4408b",
       "options": null,
       "position": {
        "height": 5,
        "width": 11,
        "x": 0,
        "y": 12,
        "z": null
       },
       "resultIndex": null
      }
     ],
     "globalVars": {},
     "guid": "",
     "layoutOption": {
      "grid": true,
      "stack": true
     },
     "nuid": "d7bcf157-deda-4cbb-9b3b-d93b3aaa6e65",
     "origId": 4935390671090458,
     "title": "Travel & Tourism Dashboard",
     "version": "DashboardViewV1",
     "width": 1024
    }
   ],
   "environmentMetadata": null,
   "inputWidgetPreferences": null,
   "language": "python",
   "notebookMetadata": {
    "mostRecentlyExecutedCommandWithImplicitDF": {
     "commandId": 4935390671090417,
     "dataframes": [
      "_sqldf"
     ]
    },
    "pythonIndentUnit": 2
   },
   "notebookName": "Travel & Tourism-Booking Dataset",
   "widgets": {}
  },
  "language_info": {
   "name": "python"
  }
 },
 "nbformat": 4,
 "nbformat_minor": 0
}